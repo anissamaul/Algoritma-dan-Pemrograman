{
  "nbformat": 4,
  "nbformat_minor": 0,
  "metadata": {
    "colab": {
      "provenance": []
    },
    "kernelspec": {
      "name": "python3",
      "display_name": "Python 3"
    },
    "language_info": {
      "name": "python"
    }
  },
  "cells": [
    {
      "cell_type": "code",
      "execution_count": null,
      "metadata": {
        "colab": {
          "base_uri": "https://localhost:8080/"
        },
        "id": "NSBZaPReSQ60",
        "outputId": "d9302a23-9a5c-4d7b-869a-518cc26509ef"
      },
      "outputs": [
        {
          "output_type": "stream",
          "name": "stdout",
          "text": [
            "[3, 10, 4, 6, 8, 9, 7, 2, 1, 5]\n",
            "[3, 4, 10, 6, 8, 9, 7, 2, 1, 5]\n",
            "[3, 4, 6, 10, 8, 9, 7, 2, 1, 5]\n",
            "[3, 4, 6, 8, 10, 9, 7, 2, 1, 5]\n",
            "[3, 4, 6, 8, 9, 10, 7, 2, 1, 5]\n",
            "[3, 4, 6, 7, 8, 9, 10, 2, 1, 5]\n",
            "[2, 3, 4, 6, 7, 8, 9, 10, 1, 5]\n",
            "[1, 2, 3, 4, 6, 7, 8, 9, 10, 5]\n",
            "[1, 2, 3, 4, 5, 6, 7, 8, 9, 10]\n"
          ]
        }
      ],
      "source": [
        "n = [3, 10, 4, 6, 8, 9, 7, 2, 1, 5]\n",
        "for i in range(1, len(n)):\n",
        "  a = n[i]\n",
        "  j = i - 1\n",
        "  while j >= 0 and n[j] > a:\n",
        "    n[j + 1] = n[j];\n",
        "    j -= 1\n",
        "    n[j + 1] = a\n",
        "\n",
        "  print(n)"
      ]
    }
  ]
}