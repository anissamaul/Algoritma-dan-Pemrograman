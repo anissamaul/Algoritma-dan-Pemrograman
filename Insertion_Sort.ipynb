{
  "nbformat": 4,
  "nbformat_minor": 0,
  "metadata": {
    "colab": {
      "provenance": []
    },
    "kernelspec": {
      "name": "python3",
      "display_name": "Python 3"
    },
    "language_info": {
      "name": "python"
    }
  },
  "cells": [
    {
      "cell_type": "code",
      "execution_count": null,
      "metadata": {
        "colab": {
          "base_uri": "https://localhost:8080/"
        },
        "id": "OjPw3KFgXsu4",
        "outputId": "9b21465b-65ff-4b23-fa1a-bf849424b9f9"
      },
      "outputs": [
        {
          "output_type": "stream",
          "name": "stdout",
          "text": [
            "[0, 0, 0, 0, 1, 1, 1, 2, 5, 9]\n"
          ]
        }
      ],
      "source": [
        "N=[2,1,0,0,0,1,5,0,1,9]\n",
        "\n",
        "for i in range(1, len(N)):\n",
        "   a = N[i]\n",
        "   j = i - 1\n",
        "   while j >= 0 and N[j] > a:\n",
        "     N[j + 1] = N[j];\n",
        "     j -= 1\n",
        "     N[j + 1] = a\n",
        "\n",
        "print(N)"
      ]
    }
  ]
}