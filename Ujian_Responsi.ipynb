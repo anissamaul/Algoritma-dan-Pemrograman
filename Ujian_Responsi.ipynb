{
  "nbformat": 4,
  "nbformat_minor": 0,
  "metadata": {
    "colab": {
      "provenance": []
    },
    "kernelspec": {
      "name": "python3",
      "display_name": "Python 3"
    },
    "language_info": {
      "name": "python"
    }
  },
  "cells": [
    {
      "cell_type": "code",
      "source": [
        "Bus_Besar = 0\n",
        "Bus_Kecil = 0\n",
        "Kapasitas_BK = 16\n",
        "Kapasitas_BB = 46\n",
        "Sewa_BK = 400000\n",
        "Sewa_BB = 800000\n",
        "\n",
        "pst = int(input('Peserta = '))\n",
        "pnd = int(input('Pendamping = '))\n",
        "\n",
        "Jumlah_Orang = pst+pnd\n",
        "sisa_orang = Jumlah_Orang % Kapasitas_BB\n",
        "if sisa_orang <= Kapasitas_BK:\n",
        "  Bus_Kecil=+1\n",
        "elif Kapasitas_BK < sisa_orang < Kapasitas_BB:\n",
        "  Bus_Besar=+1\n",
        "\n",
        "Bus_Besar = Jumlah_Orang//Kapasitas_BB\n",
        "totalharga = (Bus_Kecil*Sewa_BK)+(Bus_Besar*800000)\n",
        "print('Sisa Orang',sisa_orang)\n",
        "print('Jumlah Bus Besar',Bus_Besar)\n",
        "print('Jumlah Bus Kecil',Bus_Kecil)\n",
        "print('Harga Sewa Total',totalharga)"
      ],
      "metadata": {
        "colab": {
          "base_uri": "https://localhost:8080/"
        },
        "id": "PFCstJOGhYA4",
        "outputId": "545ab9bb-6138-4e6b-f132-c800d82572da"
      },
      "execution_count": null,
      "outputs": [
        {
          "output_type": "stream",
          "name": "stdout",
          "text": [
            "Peserta = 250\n",
            "Pendamping = 7\n",
            "Sisa Orang 27\n",
            "Jumlah Bus Besar 5\n",
            "Jumlah Bus Kecil 0\n",
            "Harga Sewa Total 4000000\n"
          ]
        }
      ]
    },
    {
      "cell_type": "code",
      "source": [
        "Bus_Besar = 0\n",
        "Bus_Kecil = 0\n",
        "Kapasitas_BK = 16\n",
        "Kapasitas_BB = 46\n",
        "Sewa_BK = 400000\n",
        "Sewa_BB = 800000\n",
        "\n",
        "pst = int(input('Peserta = '))\n",
        "pnd = int(input('Pendamping = '))\n",
        "\n",
        "Jumlah_Orang = pst+pnd\n",
        "sisa_orang = Jumlah_Orang % Kapasitas_BB\n",
        "if sisa_orang <= Kapasitas_BK:\n",
        "  Bus_Kecil=+1\n",
        "elif Kapasitas_BK < sisa_orang < Kapasitas_BB:\n",
        "  Bus_Besar=+1\n",
        "\n",
        "Bus_Besar = Jumlah_Orang//Kapasitas_BB\n",
        "totalharga = (Bus_Kecil*Sewa_BK)+(Bus_Besar*800000)\n",
        "print('Sisa Orang',sisa_orang)\n",
        "print('Jumlah Bus Besar',Bus_Besar)\n",
        "print('Jumlah Bus Kecil',Bus_Kecil)\n",
        "print('Harga Sewa Total',totalharga)"
      ],
      "metadata": {
        "colab": {
          "base_uri": "https://localhost:8080/"
        },
        "id": "aWHoVBmOhekF",
        "outputId": "3c3f98bc-bb54-451a-fbc6-4b4195a640d1"
      },
      "execution_count": null,
      "outputs": [
        {
          "output_type": "stream",
          "name": "stdout",
          "text": [
            "Peserta = 300\n",
            "Pendamping = 10\n",
            "Sisa Orang 34\n",
            "Jumlah Bus Besar 6\n",
            "Jumlah Bus Kecil 0\n",
            "Harga Sewa Total 4800000\n"
          ]
        }
      ]
    },
    {
      "cell_type": "code",
      "source": [
        "Bus_Besar = 0\n",
        "Bus_Kecil = 0\n",
        "Kapasitas_BK = 16\n",
        "Kapasitas_BB = 46\n",
        "Sewa_BK = 400000\n",
        "Sewa_BB = 800000\n",
        "\n",
        "pst = int(input('Peserta = '))\n",
        "pnd = int(input('Pendamping = '))\n",
        "\n",
        "Jumlah_Orang = pst+pnd\n",
        "sisa_orang = Jumlah_Orang % Kapasitas_BB\n",
        "if sisa_orang <= Kapasitas_BK:\n",
        "  Bus_Kecil=+1\n",
        "elif Kapasitas_BK < sisa_orang < Kapasitas_BB:\n",
        "  Bus_Besar=+1\n",
        "\n",
        "Bus_Besar = Jumlah_Orang//Kapasitas_BB\n",
        "totalharga = (Bus_Kecil*Sewa_BK)+(Bus_Besar*800000)\n",
        "print('Sisa Orang',sisa_orang)\n",
        "print('Jumlah Bus Besar',Bus_Besar)\n",
        "print('Jumlah Bus Kecil',Bus_Kecil)\n",
        "print('Harga Sewa Total',totalharga)"
      ],
      "metadata": {
        "colab": {
          "base_uri": "https://localhost:8080/"
        },
        "id": "7lhP8lc4hhX-",
        "outputId": "f89b8a6c-721d-4fd3-9d3b-9fea969f28b7"
      },
      "execution_count": null,
      "outputs": [
        {
          "output_type": "stream",
          "name": "stdout",
          "text": [
            "Peserta = 350\n",
            "Pendamping = 12\n",
            "Sisa Orang 40\n",
            "Jumlah Bus Besar 7\n",
            "Jumlah Bus Kecil 0\n",
            "Harga Sewa Total 5600000\n"
          ]
        }
      ]
    },
    {
      "cell_type": "code",
      "source": [
        "Bus_Besar = 0\n",
        "Bus_Kecil = 0\n",
        "Kapasitas_BK = 16\n",
        "Kapasitas_BB = 46\n",
        "Sewa_BK = 400000\n",
        "Sewa_BB = 800000\n",
        "\n",
        "pst = int(input('Peserta = '))\n",
        "pnd = int(input('Pendamping = '))\n",
        "\n",
        "Jumlah_Orang = pst+pnd\n",
        "sisa_orang = Jumlah_Orang % Kapasitas_BB\n",
        "if sisa_orang <= Kapasitas_BK:\n",
        "  Bus_Kecil=+1\n",
        "elif Kapasitas_BK < sisa_orang < Kapasitas_BB:\n",
        "  Bus_Besar=+1\n",
        "\n",
        "Bus_Besar = Jumlah_Orang//Kapasitas_BB\n",
        "totalharga = (Bus_Kecil*Sewa_BK)+(Bus_Besar*800000)\n",
        "print('Sisa Orang',sisa_orang)\n",
        "print('Jumlah Bus Besar',Bus_Besar)\n",
        "print('Jumlah Bus Kecil',Bus_Kecil)\n",
        "print('Harga Sewa Total',totalharga)"
      ],
      "metadata": {
        "colab": {
          "base_uri": "https://localhost:8080/"
        },
        "id": "FQ03XzE8hnI7",
        "outputId": "f86c445f-f9e6-48fe-ae24-385ec6a348c0"
      },
      "execution_count": null,
      "outputs": [
        {
          "output_type": "stream",
          "name": "stdout",
          "text": [
            "Peserta = 0\n",
            "Pendamping = 0\n",
            "Sisa Orang 0\n",
            "Jumlah Bus Besar 0\n",
            "Jumlah Bus Kecil 1\n",
            "Harga Sewa Total 400000\n"
          ]
        }
      ]
    }
  ]
}