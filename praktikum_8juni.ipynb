{
  "nbformat": 4,
  "nbformat_minor": 0,
  "metadata": {
    "colab": {
      "provenance": []
    },
    "kernelspec": {
      "name": "python3",
      "display_name": "Python 3"
    },
    "language_info": {
      "name": "python"
    }
  },
  "cells": [
    {
      "cell_type": "markdown",
      "source": [
        "# **List/array**"
      ],
      "metadata": {
        "id": "_BkgVkmu4N-Q"
      }
    },
    {
      "cell_type": "code",
      "source": [
        "# membuat list kosong\n",
        "a=[]\n",
        "\n",
        "# membuat list dengan satu item\n",
        "prodi=['SI']\n",
        "prodi"
      ],
      "metadata": {
        "colab": {
          "base_uri": "https://localhost:8080/"
        },
        "id": "3hKmOW6d4YJc",
        "outputId": "8de479fc-1e96-4e64-e51b-273ec1d9b071"
      },
      "execution_count": null,
      "outputs": [
        {
          "output_type": "execute_result",
          "data": {
            "text/plain": [
              "['SI']"
            ]
          },
          "metadata": {},
          "execution_count": 29
        }
      ]
    },
    {
      "cell_type": "code",
      "source": [
        "prodi=['SI','MATEMATIKA','FISIKA','BIOLOGI']\n",
        "print(prodi)"
      ],
      "metadata": {
        "id": "55KKIIMm6Mxv",
        "colab": {
          "base_uri": "https://localhost:8080/"
        },
        "outputId": "14ad49a5-4f8f-4d08-fe5f-f1cec4cb26c1"
      },
      "execution_count": null,
      "outputs": [
        {
          "output_type": "stream",
          "name": "stdout",
          "text": [
            "['SI', 'MATEMATIKA', 'FISIKA', 'BIOLOGI']\n"
          ]
        }
      ]
    },
    {
      "cell_type": "markdown",
      "source": [
        "##**Mengambil nilai dari list**"
      ],
      "metadata": {
        "id": "CKSLFWFSb6ja"
      }
    },
    {
      "cell_type": "code",
      "source": [
        "# list judul lagu di proof\n",
        "proof=['yet to come', 'for youth', 'born singer', 'run bangtan', 'dynamite']\n",
        "\n",
        "# misalkan akan mengambil mangga , maka indeknya adalah 4\n",
        "print(proof[0])"
      ],
      "metadata": {
        "colab": {
          "base_uri": "https://localhost:8080/"
        },
        "id": "_FHYHrhI6oZn",
        "outputId": "a0be2662-9e5b-48a4-d262-2be17d7e0cd8"
      },
      "execution_count": null,
      "outputs": [
        {
          "output_type": "stream",
          "name": "stdout",
          "text": [
            "yet to come\n"
          ]
        }
      ]
    },
    {
      "cell_type": "markdown",
      "source": [
        "###***Mengganti nilai list***"
      ],
      "metadata": {
        "id": "pRZsIfD07wB3"
      }
    },
    {
      "cell_type": "code",
      "source": [
        "# list awal\n",
        "proof=['yet to come', 'for youth', 'born singer', 'run bangtan', 'dynamite']\n",
        "\n",
        "#mengubah nilai indek ke-4\n",
        "proof[4]='butter'\n",
        "print(proof)"
      ],
      "metadata": {
        "id": "_BSsP7_57UHe",
        "colab": {
          "base_uri": "https://localhost:8080/"
        },
        "outputId": "b348eef8-41de-44c0-8b1f-c54956f198f0"
      },
      "execution_count": null,
      "outputs": [
        {
          "output_type": "stream",
          "name": "stdout",
          "text": [
            "['yet to come', 'for youth', 'born singer', 'run bangtan', 'butter']\n"
          ]
        }
      ]
    },
    {
      "cell_type": "markdown",
      "source": [
        "##**Menambahkan item list**"
      ],
      "metadata": {
        "id": "-xT-acQn7_gg"
      }
    },
    {
      "cell_type": "code",
      "source": [
        "# list awal\n",
        "proof=['yet to come', 'for youth', 'born singer', 'run bangtan', 'dynamite']\n",
        "\n",
        "# tambahkan judul still with you\n",
        "proof.append('still with you')\n",
        "print(proof)"
      ],
      "metadata": {
        "colab": {
          "base_uri": "https://localhost:8080/"
        },
        "id": "w1w09qQ6dkGt",
        "outputId": "87320fa0-3b74-4924-c9ef-10aaa771afc5"
      },
      "execution_count": null,
      "outputs": [
        {
          "output_type": "stream",
          "name": "stdout",
          "text": [
            "['yet to come', 'for youth', 'born singer', 'run bangtan', 'dynamite', 'still with you']\n"
          ]
        }
      ]
    },
    {
      "cell_type": "code",
      "source": [
        "# list awal\n",
        "proof=['yet to come', 'for youth', 'born singer', 'run bangtan', 'dynamite']\n",
        "\n",
        "# tambahkan judul still with you\n",
        "proof.insert (2,'still with you')\n",
        "print(proof)"
      ],
      "metadata": {
        "id": "hZgh80kM8JkY",
        "colab": {
          "base_uri": "https://localhost:8080/"
        },
        "outputId": "c8307eb9-fce6-4cf4-aa4b-3aa60aee7a2a"
      },
      "execution_count": null,
      "outputs": [
        {
          "output_type": "stream",
          "name": "stdout",
          "text": [
            "['yet to come', 'for youth', 'still with you', 'born singer', 'run bangtan', 'dynamite']\n"
          ]
        }
      ]
    },
    {
      "cell_type": "markdown",
      "source": [
        "##**Menghapus item list**"
      ],
      "metadata": {
        "id": "j6SqQPFGd5CO"
      }
    },
    {
      "cell_type": "code",
      "source": [
        "# Membuat List\n",
        "todo_list = [\n",
        "\"Balajar Python\",\n",
        "\"Belajar Django\",\n",
        "\"Belajar MongoDB\",\n",
        "\"Belajar Sulap\",\n",
        "\"Belajar Flask\"\n",
        "]\n",
        "# Misalkan kita ingin menghapus \"Belajar Sulap\"\n",
        "# yang berada di indeks ke-3\n",
        "del todo_list[3]\n",
        "print(todo_list)"
      ],
      "metadata": {
        "id": "q2K4u1ur-eGo",
        "colab": {
          "base_uri": "https://localhost:8080/"
        },
        "outputId": "41dbcffa-4a31-48d8-bf8e-cbb773065beb"
      },
      "execution_count": null,
      "outputs": [
        {
          "output_type": "stream",
          "name": "stdout",
          "text": [
            "['Balajar Python', 'Belajar Django', 'Belajar MongoDB', 'Belajar Flask']\n"
          ]
        }
      ]
    },
    {
      "cell_type": "code",
      "source": [
        "# membuat list\n",
        "dreamies = ['mark', 'renjun', 'jeno', 'haechan', 'jaemin', 'chenle', 'jisung', 'daegal']\n",
        "\n",
        "del dreamies[7]\n",
        "print(dreamies)"
      ],
      "metadata": {
        "id": "L-Dc8HGk_LKc",
        "colab": {
          "base_uri": "https://localhost:8080/"
        },
        "outputId": "e1d506b1-0ed6-4541-d891-da80d2ac983a"
      },
      "execution_count": null,
      "outputs": [
        {
          "output_type": "stream",
          "name": "stdout",
          "text": [
            "['mark', 'renjun', 'jeno', 'haechan', 'jaemin', 'chenle', 'jisung']\n"
          ]
        }
      ]
    },
    {
      "cell_type": "code",
      "source": [
        "# mula-mula kita punya list\n",
        "beatbox = ['beatbox', 'to my first', 'hello future', 'sorry heart', 'on the way']\n",
        "\n",
        "# kemudian kita hapus hello future\n",
        "beatbox.remove('hello future')\n",
        "print(beatbox)"
      ],
      "metadata": {
        "id": "dNSHoJKM-nVu",
        "colab": {
          "base_uri": "https://localhost:8080/"
        },
        "outputId": "0a60532d-a434-480e-bcbb-58f2d1d13c1c"
      },
      "execution_count": null,
      "outputs": [
        {
          "output_type": "stream",
          "name": "stdout",
          "text": [
            "['beatbox', 'to my first', 'sorry heart', 'on the way']\n"
          ]
        }
      ]
    },
    {
      "cell_type": "markdown",
      "source": [
        "##**Memotong list**"
      ],
      "metadata": {
        "id": "x9wgrd9oeh5L"
      }
    },
    {
      "cell_type": "code",
      "source": [
        "# Kita punya list nama orang\n",
        "squad = ['bambam', 'yugyeom', 'jungkook', 'jaehyun', 'mingyu', 'dokyeom', 'minghao', 'eunwoo', 'winwin']\n",
        "# Kita potong dari indeks ke-0 sampai ke-8\n",
        "print(squad[0:8])"
      ],
      "metadata": {
        "id": "wrhhfqW4ATv5",
        "colab": {
          "base_uri": "https://localhost:8080/"
        },
        "outputId": "db8af60c-54ad-489c-d8e8-88af9b480f3c"
      },
      "execution_count": null,
      "outputs": [
        {
          "output_type": "stream",
          "name": "stdout",
          "text": [
            "['bambam', 'yugyeom', 'jungkook', 'jaehyun', 'mingyu', 'dokyeom', 'minghao', 'eunwoo']\n"
          ]
        }
      ]
    }
  ]
}