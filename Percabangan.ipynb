{
  "nbformat": 4,
  "nbformat_minor": 0,
  "metadata": {
    "colab": {
      "provenance": []
    },
    "kernelspec": {
      "name": "python3",
      "display_name": "Python 3"
    },
    "language_info": {
      "name": "python"
    }
  },
  "cells": [
    {
      "cell_type": "code",
      "source": [
        "#Menentukan nilai maksimum dari dua bilangan\n",
        "x=int(input('x = '))\n",
        "\n",
        "if (x%2==0):\n",
        "  ket = 'bilangan genap'\n",
        "else:\n",
        "  ket = 'bilangan ganjil'\n",
        "\n",
        "print(\"x adalah\" ,ket)"
      ],
      "metadata": {
        "colab": {
          "base_uri": "https://localhost:8080/"
        },
        "id": "I4-8I6gNYgbN",
        "outputId": "355361c7-61bb-4925-a8e7-d13cba87c6fa"
      },
      "execution_count": null,
      "outputs": [
        {
          "output_type": "stream",
          "name": "stdout",
          "text": [
            "x = 84\n",
            "x adalah bilangan genap\n"
          ]
        }
      ]
    },
    {
      "cell_type": "markdown",
      "source": [
        "## 2.\t Menentukan nilai maksimum dari tiga bilangan"
      ],
      "metadata": {
        "id": "8jqnl5mobsWK"
      }
    },
    {
      "cell_type": "code",
      "execution_count": null,
      "metadata": {
        "colab": {
          "base_uri": "https://localhost:8080/"
        },
        "id": "GyqZMDPKh42b",
        "outputId": "bc459225-16a6-4182-ad16-09d21d200425"
      },
      "outputs": [
        {
          "output_type": "stream",
          "name": "stdout",
          "text": [
            "a = 7\n",
            "b = 23\n",
            "c = 12\n",
            "Nilai maksimum adalah 23\n"
          ]
        }
      ],
      "source": [
        "#Menentukan nilai maksimum dari tiga bilangan\n",
        "a=int(input('a = '))\n",
        "b=int(input('b = '))\n",
        "c=int(input('c = '))\n",
        "\n",
        "if (a > b):\n",
        "  maks = a\n",
        "else:\n",
        "  if (b > c):\n",
        "    maks = b\n",
        "  else:\n",
        "    maks = c\n",
        "\n",
        "print(\"Nilai maksimum adalah\" ,maks)"
      ]
    }
  ]
}