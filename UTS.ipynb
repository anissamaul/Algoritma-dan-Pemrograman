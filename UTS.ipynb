{
  "nbformat": 4,
  "nbformat_minor": 0,
  "metadata": {
    "colab": {
      "provenance": []
    },
    "kernelspec": {
      "name": "python3",
      "display_name": "Python 3"
    },
    "language_info": {
      "name": "python"
    }
  },
  "cells": [
    {
      "cell_type": "markdown",
      "source": [
        "## **KASUS NO 1**"
      ],
      "metadata": {
        "id": "a6SNuxTvTVbN"
      }
    },
    {
      "cell_type": "code",
      "execution_count": null,
      "metadata": {
        "colab": {
          "base_uri": "https://localhost:8080/"
        },
        "id": "HBZk4JPv9g6j",
        "outputId": "3e8259ff-eddc-4a30-ffad-0cfb3e593a6b"
      },
      "outputs": [
        {
          "output_type": "stream",
          "name": "stdout",
          "text": [
            "die1 : 2\n",
            "die2 : 1\n",
            "die3 : 1\n",
            "1 Pair!!!\n"
          ]
        }
      ],
      "source": [
        "import random\n",
        "die1 = random.randint(1,6)\n",
        "die2 = random.randint(1,6)\n",
        "die3 = random.randint(1,6)\n",
        "\n",
        "print(\"die1 :\", + die1)\n",
        "print(\"die2 :\", + die2)\n",
        "print(\"die3 :\", + die3)\n",
        "\n",
        "if die1 == die2 == die3:\n",
        "    print(\"Three of kind!!!\")\n",
        "elif die1 == die2:\n",
        "  print(\"1 Pair!!!\")\n",
        "elif die2 == die3:\n",
        "  print(\"1 Pair!!!\")\n",
        "elif die1 == die3:\n",
        "  print(\"1 Pair!!!\")\n",
        "else:\n",
        "  print(\"Better luck next time!\")"
      ]
    },
    {
      "cell_type": "code",
      "source": [
        "import random\n",
        "die1 = random.randint(1,6)\n",
        "die2 = random.randint(1,6)\n",
        "die3 = random.randint(1,6)\n",
        "\n",
        "print(\"die1 :\", + die1)\n",
        "print(\"die2 :\", + die2)\n",
        "print(\"die3 :\", + die3)\n",
        "\n",
        "if die1 %2 == die2 %2 == die3 %2 == 0:\n",
        "  print(\"Three of even!!!\")\n",
        "else:\n",
        "  print(\"Better luck next time!\")"
      ],
      "metadata": {
        "colab": {
          "base_uri": "https://localhost:8080/"
        },
        "id": "xaKrqWHwDq4T",
        "outputId": "45e7fc0f-4527-4968-8494-e3b440826147"
      },
      "execution_count": null,
      "outputs": [
        {
          "output_type": "stream",
          "name": "stdout",
          "text": [
            "die1 : 6\n",
            "die2 : 6\n",
            "die3 : 6\n",
            "Three of even!!!\n"
          ]
        }
      ]
    },
    {
      "cell_type": "code",
      "source": [
        "import random\n",
        "die1 = random.randint(1,6)\n",
        "die2 = random.randint(1,6)\n",
        "die3 = random.randint(1,6)\n",
        "\n",
        "print(\"die1 :\", + die1)\n",
        "print(\"die2 :\", + die2)\n",
        "print(\"die3 :\", + die3)\n",
        "\n",
        "if die1 %2 == die2 %2 == die3 %2 == 1:\n",
        "  print(\"Three of odd!!!\")\n",
        "else:\n",
        "  print(\"Better luck next time!\")"
      ],
      "metadata": {
        "colab": {
          "base_uri": "https://localhost:8080/"
        },
        "id": "ny8vYojjFAXa",
        "outputId": "513d3b09-a97e-473e-9aa3-9380e7b7143b"
      },
      "execution_count": null,
      "outputs": [
        {
          "output_type": "stream",
          "name": "stdout",
          "text": [
            "die1 : 2\n",
            "die2 : 2\n",
            "die3 : 4\n",
            "Better luck next time!\n"
          ]
        }
      ]
    },
    {
      "cell_type": "markdown",
      "source": [
        "## **KASUS NO 2**"
      ],
      "metadata": {
        "id": "PEPjoa13TJ8E"
      }
    },
    {
      "cell_type": "code",
      "source": [
        "import random\n",
        "uppercaseLetter1 = chr(random.randint(65,90)) #Menghasilkan huruf besar (berdasarkan kode ASCII)\n",
        "uppercaseLetter2 = chr(random.randint(65,90)) #Menghasilkan huruf besar (berdasarkan kode ASCII)\n",
        "lowercaseLetter1 = chr(random.randint(97,122)) #Menghasilkan huruf kecil (berdasarkan kode ASCII)\n",
        "lowercaseLetter2 = chr(random.randint(97,122)) #Menghasilkan huruf kecil (berdasarkan kode ASCII)\n",
        "digit1 = chr(random.randint(48,57)) #Menghasilkan angka (berdasarkan kode ASCII)\n",
        "digit2 = chr(random.randint(48,57))  #Menghasilkan angka (berdasarkan kode ASCII)\n",
        "punctuationSign1 = chr(random.randint(33,47))\n",
        "punctuationSign2 = chr(random.randint(33,47))\n",
        "\n",
        "password = uppercaseLetter1 + uppercaseLetter2 + lowercaseLetter1 + lowercaseLetter2 + digit1 + digit2 + punctuationSign1 + punctuationSign2\n",
        "tempList = list(password)\n",
        "random.shuffle(tempList)\n",
        "\n",
        "print(''.join(tempList))"
      ],
      "metadata": {
        "colab": {
          "base_uri": "https://localhost:8080/"
        },
        "id": "6thb_rsCHOLh",
        "outputId": "9dafef86-651a-4011-b4b0-9f8b5dc2ca72"
      },
      "execution_count": null,
      "outputs": [
        {
          "output_type": "stream",
          "name": "stdout",
          "text": [
            "8rCG&g/2\n"
          ]
        }
      ]
    }
  ]
}