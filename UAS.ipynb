{
  "nbformat": 4,
  "nbformat_minor": 0,
  "metadata": {
    "colab": {
      "provenance": []
    },
    "kernelspec": {
      "name": "python3",
      "display_name": "Python 3"
    },
    "language_info": {
      "name": "python"
    }
  },
  "cells": [
    {
      "cell_type": "code",
      "source": [
        "#No1\n",
        "def refleksi_angka(num):\n",
        "  return int(str(num)[::-1])\n",
        "\n",
        "angka = 342\n",
        "print(str(angka) + str(refleksi_angka(angka)))"
      ],
      "metadata": {
        "colab": {
          "base_uri": "https://localhost:8080/"
        },
        "id": "GWn0x5tcXS5g",
        "outputId": "654391bb-e7a5-495f-d4cb-ae18729f88d3"
      },
      "execution_count": null,
      "outputs": [
        {
          "output_type": "stream",
          "name": "stdout",
          "text": [
            "342243\n"
          ]
        }
      ]
    },
    {
      "cell_type": "code",
      "source": [
        "#No3\n",
        "a = int(input('masukan angka ke-1 : '))\n",
        "b = int(input('masukan angka ke-2 : '))\n",
        "c = int(input('masukan angka ke-3 : '))\n",
        "\n",
        "operasi = (a-b) + c\n",
        "print(a, '-', b, '+', c, \"=\", operasi)"
      ],
      "metadata": {
        "colab": {
          "base_uri": "https://localhost:8080/"
        },
        "id": "SF5yP937hyqH",
        "outputId": "debab8cf-a0cf-4d73-84f7-3d4acceb1b6f"
      },
      "execution_count": null,
      "outputs": [
        {
          "output_type": "stream",
          "name": "stdout",
          "text": [
            "masukan angka ke-1 : 3\n",
            "masukan angka ke-2 : 2\n",
            "masukan angka ke-3 : 3\n",
            "3 - 2 + 3 = 4\n"
          ]
        }
      ]
    },
    {
      "cell_type": "code",
      "source": [
        "#No4\n",
        "print(\"Mengecek pecahan apakah sama atau tidak\")\n",
        "a = float(input(\"masukkan bilangan pembilang pertama : \"))\n",
        "b = float(input(\"masukkan bilangan penyebut pertama : \"))\n",
        "c = float(input(\"masukkan bilangan pembilang kedua : \"))\n",
        "d = float(input(\"masukkan bilangan penyebut kedua : \"))\n",
        "\n",
        "pecahan_1 = a/b\n",
        "pecahan_2 = c/d\n",
        "if pecahan_1 == pecahan_2:\n",
        "  print('Kedua pecahan sama')\n",
        "else:\n",
        "  print('Kedua pecahan tidak sama')"
      ],
      "metadata": {
        "colab": {
          "base_uri": "https://localhost:8080/"
        },
        "id": "qv8LJjvwZY5I",
        "outputId": "3860bc6e-123c-4b6d-8456-a27d826a9723"
      },
      "execution_count": null,
      "outputs": [
        {
          "output_type": "stream",
          "name": "stdout",
          "text": [
            "Mengecek pecahan apakah sama atau tidak\n",
            "masukkan bilangan pembilang pertama : 2\n",
            "masukkan bilangan penyebut pertama : 5\n",
            "masukkan bilangan pembilang kedua : 4\n",
            "masukkan bilangan penyebut kedua : 10\n",
            "Kedua pecahan sama\n"
          ]
        }
      ]
    },
    {
      "cell_type": "code",
      "source": [
        "#No5\n",
        "from fractions import Fraction as Pecahan\n",
        "x=print(Pecahan(9,24))"
      ],
      "metadata": {
        "colab": {
          "base_uri": "https://localhost:8080/"
        },
        "id": "GPzU4C59WJFv",
        "outputId": "a8ac4a9c-1995-450a-b4cb-10258b83742d"
      },
      "execution_count": null,
      "outputs": [
        {
          "output_type": "stream",
          "name": "stdout",
          "text": [
            "3/8\n"
          ]
        }
      ]
    }
  ]
}