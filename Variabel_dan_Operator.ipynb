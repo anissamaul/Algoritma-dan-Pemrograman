{
  "cells": [
    {
      "cell_type": "markdown",
      "metadata": {
        "id": "wLRyqOizIHzJ"
      },
      "source": [
        "# Operator Aritmatika"
      ]
    },
    {
      "cell_type": "markdown",
      "metadata": {
        "id": "XSQv1bOEhWKT"
      },
      "source": [
        "Operator `aritmatika` digunakan untuk melakukan operasi matematika yang umum.\n",
        "\n",
        "macam-macam operator aritmatika:\n",
        "\n",
        "```\n",
        "+  : Penjumlahan\n",
        "-  : Pengurangan\n",
        "*  : Perkalian\n",
        "/  : Pembagian\n",
        "// : Pembagian dengan hasil pembulatan flooring\n",
        "%  : Modulus\n",
        "** : Perpangkatan\n",
        "```\n",
        "\n"
      ]
    },
    {
      "cell_type": "code",
      "execution_count": null,
      "metadata": {
        "id": "4cFDmsfnNRx7"
      },
      "outputs": [],
      "source": [
        "x = 23\n",
        "y = 7"
      ]
    },
    {
      "cell_type": "code",
      "execution_count": null,
      "metadata": {
        "id": "N6nqolrfTzb3",
        "colab": {
          "base_uri": "https://localhost:8080/"
        },
        "outputId": "95cdf7ce-286a-4c31-adb8-c53489c7a3fa"
      },
      "outputs": [
        {
          "output_type": "stream",
          "name": "stdout",
          "text": [
            "x + y = 30\n",
            "x - y = 16\n",
            "x * y = 161\n",
            "x / y = 3.2857142857142856\n",
            "x // y = 3\n",
            "x % y = 2\n",
            "x ** y = 3404825447\n"
          ]
        }
      ],
      "source": [
        "#Penjumlahan\n",
        "print ('x + y =' ,x+y)\n",
        "#Pengurangan\n",
        "print ('x - y =' ,x-y)\n",
        "#Perkalian\n",
        "print ('x * y =' ,x*y)\n",
        "#Pembagian\n",
        "print ('x / y =' ,x/y)\n",
        "#Pembagian Pembulatan Floring\n",
        "print ('x // y =' ,x//y)\n",
        "#Modulus\n",
        "print ('x % y =' ,x%y)\n",
        "#Perpangkatan\n",
        "print ('x ** y =' ,x**y)"
      ]
    },
    {
      "cell_type": "markdown",
      "metadata": {
        "id": "tYoJqoi2UcMX"
      },
      "source": [
        "# Operator Assigment"
      ]
    },
    {
      "cell_type": "markdown",
      "metadata": {
        "id": "dGhDPgFuhz17"
      },
      "source": [
        "\n",
        "Operator `assigment` digunakan untuk menyimpan nilai menjadi suatu variabel.\n",
        "```\n",
        "=   : contohnya x = 5 -> x = 5\n",
        "+=  : contohnya x = x + 5 -> x += 5\n",
        "-=  : contohnya x = x - 5 -> x -= 5\n",
        "*=  : contohnya x = x * 5 -> x *= 5\n",
        "/=  : contohnya x = x / 5 -> x /= 5\n",
        "%=  : contohnya x = x % 5 -> x %= 5\n",
        "//= : contohnya x = x // 5 -> x //= 5\n",
        "**= : contohnya x = x ** 5 -> x **= 5\n",
        "```\n",
        "\n"
      ]
    },
    {
      "cell_type": "code",
      "execution_count": null,
      "metadata": {
        "id": "iGPpEXzBbaNh",
        "colab": {
          "base_uri": "https://localhost:8080/"
        },
        "outputId": "af956a52-8d75-4828-b74d-1e6b1e617473"
      },
      "outputs": [
        {
          "output_type": "stream",
          "name": "stdout",
          "text": [
            "Penjumlahan\n",
            "12\n",
            "10\n",
            "--------------------\n",
            "Pengurangan\n",
            "0\n",
            "-6\n",
            "--------------------\n",
            "Perkalian\n",
            "25\n",
            "20\n",
            "--------------------\n",
            "Pembagian\n",
            "1.0\n",
            "2.0\n",
            "--------------------\n",
            "Modulus\n",
            "0\n",
            "0\n",
            "--------------------\n",
            "Pembagian Floring\n",
            "1\n",
            "1\n",
            "--------------------\n",
            "Perpangkatan\n",
            "16777216\n",
            "64\n",
            "--------------------\n"
          ]
        }
      ],
      "source": [
        "# Penjumlahan\n",
        "print('Penjumlahan')\n",
        "x=6\n",
        "x=x+6\n",
        "print(x)\n",
        "x=6\n",
        "x+=4\n",
        "print(x)\n",
        "print('-'*20)\n",
        "\n",
        "#Pengurangan\n",
        "print('Pengurangan')\n",
        "x=3\n",
        "x=x-3\n",
        "print(x)\n",
        "x=3\n",
        "x-=9\n",
        "print(x)\n",
        "print('-'*20)\n",
        "\n",
        "#Perkalian\n",
        "print('Perkalian')\n",
        "x=5\n",
        "x=x*5\n",
        "print(x)\n",
        "x=5\n",
        "x*=4\n",
        "print(x)\n",
        "print('-'*20)\n",
        "\n",
        "#Pembagian\n",
        "print('Pembagian')\n",
        "x=8\n",
        "x=x/8\n",
        "print(x)\n",
        "x=8\n",
        "x/=4\n",
        "print(x)\n",
        "print('-'*20)\n",
        "\n",
        "#Modulus\n",
        "print('Modulus')\n",
        "x=6\n",
        "x=x%6\n",
        "print(x)\n",
        "x=6\n",
        "x%=2\n",
        "print(x)\n",
        "print('-'*20)\n",
        "\n",
        "#Pembagian Floring\n",
        "print('Pembagian Floring')\n",
        "x=4\n",
        "x=x//4\n",
        "print(x)\n",
        "x=4\n",
        "x//=4\n",
        "print(x)\n",
        "print('-'*20)\n",
        "\n",
        "#Perpangkatan\n",
        "print('Perpangkatan')\n",
        "x=8\n",
        "x=x**8\n",
        "print(x)\n",
        "x=8\n",
        "x**=2\n",
        "print(x)\n",
        "print('-'*20)"
      ]
    },
    {
      "cell_type": "markdown",
      "metadata": {
        "id": "U2nPTxWgcAaU"
      },
      "source": [
        "# Operator Pembanding"
      ]
    },
    {
      "cell_type": "markdown",
      "metadata": {
        "id": "bEJT3v8NjZwV"
      },
      "source": [
        "Operator `pembanding` digunakan untuk membandingkan 2 nilai atau variabel.\n",
        "\n",
        "macam-macam operator pembanding :\n",
        "```\n",
        "== -> samadengan\n",
        "!= -> tidak samadengan\n",
        ">  -> lebih dari\n",
        "<  -> kurang dari\n",
        ">= -> lebih dari dan samadengan\n",
        "<= -> kurang dari dan samadengan\n",
        "```\n",
        "\n"
      ]
    },
    {
      "cell_type": "code",
      "execution_count": null,
      "metadata": {
        "colab": {
          "base_uri": "https://localhost:8080/"
        },
        "id": "WywOxU0mNRyE",
        "outputId": "5158372b-c132-46d7-bbf4-1ff0a8c83ae7"
      },
      "outputs": [
        {
          "output_type": "stream",
          "name": "stdout",
          "text": [
            "x = 5\n",
            "y = 7\n",
            "\n",
            "\n"
          ]
        }
      ],
      "source": [
        "x = 5\n",
        "y = 7\n",
        "print ('x =' ,x)\n",
        "print ('y =' ,y)\n",
        "print ('\\n')"
      ]
    },
    {
      "cell_type": "code",
      "execution_count": null,
      "metadata": {
        "id": "aWB9nROic6qi",
        "colab": {
          "base_uri": "https://localhost:8080/"
        },
        "outputId": "7c832b53-9423-4849-d0c3-5efbdca7b93b"
      },
      "outputs": [
        {
          "output_type": "stream",
          "name": "stdout",
          "text": [
            "x == y hasilnya False\n",
            "x != y hasilnya True\n",
            "x > y hasilnya False\n",
            "x < y hasilnya True\n",
            "x >= y hasilnya False\n",
            "x <= y hasilnya True\n"
          ]
        }
      ],
      "source": [
        "print ('x == y hasilnya' ,x==y)\n",
        "print ('x != y hasilnya' ,x!=y)\n",
        "print ('x > y hasilnya' ,x>y)\n",
        "print ('x < y hasilnya' ,x<y)\n",
        "print ('x >= y hasilnya' ,x>=y)\n",
        "print ('x <= y hasilnya' ,x<=y)"
      ]
    },
    {
      "cell_type": "markdown",
      "metadata": {
        "id": "MLkDIIDBdTEF"
      },
      "source": [
        "# Operator Logika"
      ]
    },
    {
      "cell_type": "markdown",
      "metadata": {
        "id": "vRy8C00djydr"
      },
      "source": [
        "Operator `logika` digunakan untuk mengkombinasikan statment-statment kondisional.\n",
        "\n",
        "macam-macam operator logika:\n",
        "```\n",
        "and -> kondisi menjadi benar apabila semua statementnya benar\n",
        "or -> kondisi menjadi benar apabila salah satu statementnya ada yang benar\n",
        "not -> membalik hasil dari benar ke salah dan salah ke benar\n",
        "```\n"
      ]
    },
    {
      "cell_type": "code",
      "execution_count": null,
      "metadata": {
        "id": "pRfON8FEfMOt",
        "colab": {
          "base_uri": "https://localhost:8080/"
        },
        "outputId": "a5b1a5ed-4a63-4bfa-a9c8-191ffd803b7f"
      },
      "outputs": [
        {
          "output_type": "stream",
          "name": "stdout",
          "text": [
            "False\n",
            "True\n",
            "False\n"
          ]
        }
      ],
      "source": [
        "print (False and False)\n",
        "print (False or True)\n",
        "print (not True and True)"
      ]
    },
    {
      "cell_type": "markdown",
      "metadata": {
        "id": "IT2YOZZFfMjp"
      },
      "source": [
        "# Operator Keanggotaan"
      ]
    },
    {
      "cell_type": "markdown",
      "metadata": {
        "id": "xJ7_zzeffsfu"
      },
      "source": [
        "Operator `keanggotaan` digunakan untuk menguji apakah urutan disajikan dalam suatau objel.\n",
        "\n",
        "macam-macam operator keanggotaan:\n",
        "```\n",
        "in     -> return True ketika nilai tertentu dalam sebuah urutan ada\n",
        "not in -> return True ketika nilai tertentu dalam sebuah urutan tidak ada\n",
        "```\n",
        "\n"
      ]
    },
    {
      "cell_type": "code",
      "execution_count": null,
      "metadata": {
        "id": "lAeylmrIg4mF",
        "colab": {
          "base_uri": "https://localhost:8080/"
        },
        "outputId": "fbc4d7a7-aaac-4fb7-c8c1-7aefa40fd5c6"
      },
      "outputs": [
        {
          "output_type": "stream",
          "name": "stdout",
          "text": [
            "False\n",
            "--------------------\n",
            "True\n"
          ]
        }
      ],
      "source": [
        "a=(2,3,5,7)\n",
        "b=11\n",
        "\n",
        "print(b in a)\n",
        "\n",
        "print('-'*20)\n",
        "a=(4,8,12,16,20)\n",
        "b=7\n",
        "print(b not in a)"
      ]
    },
    {
      "cell_type": "markdown",
      "metadata": {
        "id": "bkLDpKDeNRyH"
      },
      "source": [
        "# Operator Bitwise"
      ]
    },
    {
      "cell_type": "markdown",
      "metadata": {
        "id": "tI-xDKbpNRyH"
      },
      "source": [
        "Operator `bitwise` digunakan untuk menangani operasi logika bilangan biner dalam bentuk bit.\n",
        "\n",
        "macam-macam operator bitwise:\n",
        "```\n",
        "& -> and\n",
        "| -> or\n",
        "^  -> xor\n",
        "~  -> not\n",
        "<< -> left shift\n",
        ">> -> right shift\n",
        "```"
      ]
    },
    {
      "cell_type": "code",
      "execution_count": null,
      "metadata": {
        "colab": {
          "base_uri": "https://localhost:8080/"
        },
        "id": "9K0lQW8aNRyI",
        "outputId": "b78643e2-abf7-40ea-9c88-72eca2c6fb63"
      },
      "outputs": [
        {
          "output_type": "stream",
          "name": "stdout",
          "text": [
            "a = 9 = 00001001\n",
            "b = 67 = 01000011 \n",
            "\n"
          ]
        }
      ],
      "source": [
        "a = 9\n",
        "b = 67\n",
        "print ('a =', a, '=', format(a, '08b'))\n",
        "print ('b =', b, '=', format(b, '08b'), '\\n')"
      ]
    },
    {
      "cell_type": "code",
      "execution_count": null,
      "metadata": {
        "colab": {
          "base_uri": "https://localhost:8080/"
        },
        "id": "cIRphr6HNRyI",
        "outputId": "871d7fc1-fc84-4929-e049-541c56029891"
      },
      "outputs": [
        {
          "output_type": "stream",
          "name": "stdout",
          "text": [
            "[and]\n",
            "a & b = 1\n",
            "00001001 & 00000067 = 00000001\n",
            "[or]\n",
            "a | b = 75\n",
            "00000009 | 00000067 = 00000075\n",
            "[xor]\n",
            "a ^ b = 74\n",
            "00000009 ^ 00000067 = 00000074\n",
            "[not]\n",
            "~a ~b = -10 -68\n",
            "~00000009 ~00000067 = -0000010 -0000068 \n",
            "\n",
            "[shift left]\n",
            "b << a = 34304\n",
            "00000067 << 00000009 = 00034304 \n",
            "\n",
            "[shift right]\n",
            "a >> b = 0\n",
            "00000009 >> 00000067 = 00000000 \n",
            "\n"
          ]
        }
      ],
      "source": [
        "#And\n",
        "print ('[and]')\n",
        "print ('a & b =', a & b)\n",
        "print (format(a, '08b'), '&', format(b, '08'), '=', format(a & b, '08'))\n",
        "\n",
        "#Or\n",
        "print ('[or]')\n",
        "print ('a | b =', a | b)\n",
        "print (format(a, '08'), '|', format(b, '08'), '=', format(a | b, '08'))\n",
        "\n",
        "#Xor\n",
        "print ('[xor]')\n",
        "print ('a ^ b =', a ^ b)\n",
        "print (format(a, '08'), '^', format(b, '08'), '=', format(a ^ b, '08'))\n",
        "\n",
        "#Not\n",
        "print ('[not]')\n",
        "print ('~a ~b =', ~a, ~b)\n",
        "print ('~' + format(a, '08'), '~' + format(b, '08'), '=', format(~a, '08'), format(~b, '08'), '\\n')\n",
        "\n",
        "#Left Shift\n",
        "print ('[shift left]')\n",
        "print ('b << a =', b << a)\n",
        "print (format(b, '08'), '<<', format(a, '08'), '=', format(b << a, '08'), '\\n')\n",
        "\n",
        "#Right Shift\n",
        "print ('[shift right]')\n",
        "print ('a >> b =', a >> b)\n",
        "print (format(a, '08'), '>>', format(b, '08'), '=', format(a >> b, '08'), '\\n')"
      ]
    },
    {
      "cell_type": "markdown",
      "metadata": {
        "id": "YWlFFjoiNRyJ"
      },
      "source": [
        "# Operator Identitas"
      ]
    },
    {
      "cell_type": "markdown",
      "metadata": {
        "id": "EMMTQbweNRyJ"
      },
      "source": [
        "Operator `identitas` digunakan untuk memeriksa apakah nilai\n",
        "sebuah variabel ada di tempat yang sama (di memory) atau tidak.\n",
        "\n",
        "macam-macam operator identitas:\n",
        "```\n",
        "is     -> return True ketika kedua operand merujuk ke object yang sama dan berisi nilai yang sama\n",
        "is not -> return True ketika kedua operand merujuk ke object yang tidak sama\n",
        "```\n"
      ]
    },
    {
      "cell_type": "code",
      "execution_count": null,
      "metadata": {
        "id": "TzY_OdTmNRyJ"
      },
      "outputs": [],
      "source": [
        "a = 7\n",
        "b = 23\n",
        "list_a = [\"we young\",\"glitch mode\", 7, 23]\n",
        "list_b = [\"resonance\",\"universe\", 18, 23]\n",
        "nama_a = 'neo'\n",
        "nama_b = 'neo'"
      ]
    },
    {
      "cell_type": "code",
      "execution_count": null,
      "metadata": {
        "colab": {
          "base_uri": "https://localhost:8080/"
        },
        "id": "k6NZ0Tu1NRyK",
        "outputId": "31c03f23-f2f1-4abd-b3d1-160cce76c5c1"
      },
      "outputs": [
        {
          "output_type": "stream",
          "name": "stdout",
          "text": [
            "a is b: False\n",
            "a is not: True\n",
            "list_a is list_b: False\n",
            "list_a is not list_b: True\n",
            "nama_a is nama_b: True\n",
            "nama_a is not nama_b: False\n"
          ]
        }
      ],
      "source": [
        "#Output True\n",
        "print ('a is b:', a is b)\n",
        "\n",
        "#Output False\n",
        "print ('a is not:', a is not b)\n",
        "\n",
        "#Output False\n",
        "print ('list_a is list_b:', list_a is list_b)\n",
        "\n",
        "#Output True\n",
        "print ('list_a is not list_b:', list_a is not list_b)\n",
        "\n",
        "#Output True\n",
        "print ('nama_a is nama_b:', nama_a is nama_b)\n",
        "\n",
        "#Output False\n",
        "print ('nama_a is not nama_b:', nama_a is not nama_b)"
      ]
    }
  ],
  "metadata": {
    "colab": {
      "provenance": []
    },
    "kernelspec": {
      "display_name": "Python 3 (ipykernel)",
      "language": "python",
      "name": "python3"
    },
    "language_info": {
      "codemirror_mode": {
        "name": "ipython",
        "version": 3
      },
      "file_extension": ".py",
      "mimetype": "text/x-python",
      "name": "python",
      "nbconvert_exporter": "python",
      "pygments_lexer": "ipython3",
      "version": "3.9.7"
    }
  },
  "nbformat": 4,
  "nbformat_minor": 0
}