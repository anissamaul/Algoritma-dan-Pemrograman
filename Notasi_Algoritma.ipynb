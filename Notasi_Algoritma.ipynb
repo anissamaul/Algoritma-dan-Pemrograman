{
  "nbformat": 4,
  "nbformat_minor": 0,
  "metadata": {
    "colab": {
      "provenance": []
    },
    "kernelspec": {
      "name": "python3",
      "display_name": "Python 3"
    },
    "language_info": {
      "name": "python"
    }
  },
  "cells": [
    {
      "cell_type": "markdown",
      "source": [
        "### **1**. Menghitung Kecepatan dengan memasukkan jarak dan waktu\n"
      ],
      "metadata": {
        "id": "U-eM3CKxx4z_"
      }
    },
    {
      "cell_type": "code",
      "source": [
        "#Menghitung kecepatan dengan memasukkan jarak dan waktu\n",
        "s = 40\n",
        "t = 8\n",
        "print(\"jarak = \" ,s, \"cm\")\n",
        "print(\"waktu = \" ,t, \"cm\")\n",
        "\n",
        "#Mencari kecepatan\n",
        "v = int(s/t)\n",
        "print(\"kecepatan = \" ,v, \"m/s\")"
      ],
      "metadata": {
        "colab": {
          "base_uri": "https://localhost:8080/"
        },
        "id": "rznOE0NbxhxF",
        "outputId": "84d9bb27-7bbb-4994-bc8a-347321326140"
      },
      "execution_count": null,
      "outputs": [
        {
          "output_type": "stream",
          "name": "stdout",
          "text": [
            "jarak =  40 cm\n",
            "waktu =  8 cm\n",
            "kecepatan =  5 m/s\n"
          ]
        }
      ]
    },
    {
      "cell_type": "markdown",
      "source": [
        "### **2**. Menghitung luas persegi jika diketahui kelilingnya"
      ],
      "metadata": {
        "id": "vxfQ98Sfx_rf"
      }
    },
    {
      "cell_type": "code",
      "source": [
        "#Menghitung luas persegi jika diketahui kelilingnya\n",
        "K = 40\n",
        "print(\"Keliling = \" ,K, \"cm\")\n",
        "\n",
        "#Mencari Panjang Sisi Persegi\n",
        "s = int(K/4)\n",
        "print(\"sisi = \" ,s, \"cm\")\n",
        "\n",
        "#Luas Persegi\n",
        "L = int(s**2)\n",
        "print(\"Luas Persegi = \" ,L, \"cm**2\")"
      ],
      "metadata": {
        "colab": {
          "base_uri": "https://localhost:8080/"
        },
        "id": "v4l9Wx5ixsLJ",
        "outputId": "63b185fd-7522-42c6-e1f0-4428e733f61f"
      },
      "execution_count": null,
      "outputs": [
        {
          "output_type": "stream",
          "name": "stdout",
          "text": [
            "Keliling =  40 cm\n",
            "sisi =  10 cm\n",
            "Luas Persegi =  100 cm**2\n"
          ]
        }
      ]
    },
    {
      "cell_type": "markdown",
      "source": [
        "### **3**. Menghitung keliling lingkaran jika diketahui luasnya"
      ],
      "metadata": {
        "id": "rrRTEAGPylDl"
      }
    },
    {
      "cell_type": "code",
      "source": [
        "#Mencari keliling lingkaran diketahui luas\n",
        "L = 314\n",
        "π = 3.14\n",
        "print(\"Luas = \" ,L, \"cm**2\")\n",
        "\n",
        "#Mencari jari jari\n",
        "r = int((L/π)**(1/2))\n",
        "print(\"jari-jari = \" ,r, \"cm\")\n",
        "\n",
        "#Keliling lingkaran\n",
        "K = int(2*π*r)\n",
        "print(\"Keliling = \" ,K, \"cm\")"
      ],
      "metadata": {
        "id": "2l8e88zZytAO",
        "colab": {
          "base_uri": "https://localhost:8080/"
        },
        "outputId": "43740727-8ca8-4843-9b0b-b8a088d9be2c"
      },
      "execution_count": null,
      "outputs": [
        {
          "output_type": "stream",
          "name": "stdout",
          "text": [
            "Luas =  314 cm**2\n",
            "jari-jari =  10 cm\n",
            "Keliling =  62 cm\n"
          ]
        }
      ]
    },
    {
      "cell_type": "markdown",
      "source": [
        "### **4**. Menghitung sisi miring pythagoras jika diketahui dua sisi tegaknya"
      ],
      "metadata": {
        "id": "QQtci-fEytnp"
      }
    },
    {
      "cell_type": "code",
      "source": [
        "#Menghitung sisi miring (c)\n",
        "\n",
        "a = 6\n",
        "b = 8\n",
        "print(\"sisi tegak alas = \" ,a, \"cm\")\n",
        "print(\"sisi tegak tinggi = \" ,b, \"cm\")\n",
        "\n",
        "c = int((a**2 + b**2)**(1/2))\n",
        "print(\"sisi miring = \" ,c, \"cm\")"
      ],
      "metadata": {
        "colab": {
          "base_uri": "https://localhost:8080/"
        },
        "id": "ZywK6te1bIko",
        "outputId": "281dbf31-e899-43d1-ce4e-fc683e42d50d"
      },
      "execution_count": null,
      "outputs": [
        {
          "output_type": "stream",
          "name": "stdout",
          "text": [
            "sisi tegak alas =  6 cm\n",
            "sisi tegak tinggi =  8 cm\n",
            "sisi miring =  10 cm\n"
          ]
        }
      ]
    }
  ]
}