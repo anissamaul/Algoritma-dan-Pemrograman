{
  "nbformat": 4,
  "nbformat_minor": 0,
  "metadata": {
    "colab": {
      "provenance": []
    },
    "kernelspec": {
      "name": "python3",
      "display_name": "Python 3"
    },
    "language_info": {
      "name": "python"
    }
  },
  "cells": [
    {
      "cell_type": "markdown",
      "source": [
        "# kasus pertama"
      ],
      "metadata": {
        "id": "uxeSAh0yTcFY"
      }
    },
    {
      "cell_type": "code",
      "execution_count": null,
      "metadata": {
        "id": "At9-wVcUQ83N",
        "colab": {
          "base_uri": "https://localhost:8080/"
        },
        "outputId": "6a938947-1fce-4766-888d-0fe69a611979"
      },
      "outputs": [
        {
          "output_type": "stream",
          "name": "stdout",
          "text": [
            "account 1 saldo 24.98\n",
            "account 2 saldo 345.67\n",
            "account 3 saldo 0.0\n",
            "account 4 saldo -42.16\n",
            "account 5 saldo 224.62\n"
          ]
        }
      ],
      "source": [
        "import numpy as np\n",
        "account = (1, 2, 3, 4, 5)\n",
        "saldo = np.array([24.98, 345.67, 0.00, -42.16, 224.62])\n",
        "\n",
        "for x in range(len(account)):\n",
        "  print('account', account[x], 'saldo', saldo[x])"
      ]
    },
    {
      "cell_type": "code",
      "source": [
        "for j in range(5):\n",
        "\n",
        "  if saldo[j] > 0:\n",
        "    print('account', j+1, 'merupakan saldo deposit')\n",
        "  elif saldo[j] == 0:\n",
        "    print('account', j+1, 'merupakan saldo zero')\n",
        "  else:\n",
        "    print('account', j+1, 'merupakan saldo withdraw')"
      ],
      "metadata": {
        "colab": {
          "base_uri": "https://localhost:8080/"
        },
        "id": "TA_is42mQDn4",
        "outputId": "04423cf5-8b84-473c-a556-cdd375d1a13c"
      },
      "execution_count": null,
      "outputs": [
        {
          "output_type": "stream",
          "name": "stdout",
          "text": [
            "account 1 merupakan saldo deposit\n",
            "account 2 merupakan saldo deposit\n",
            "account 3 merupakan saldo zero\n",
            "account 4 merupakan saldo withdraw\n",
            "account 5 merupakan saldo deposit\n"
          ]
        }
      ]
    },
    {
      "cell_type": "code",
      "source": [
        "j = 5\n",
        "total = sum(saldo)\n",
        "print('total = ', total)\n",
        "ratarata = total/j\n",
        "print('ratarata = ',ratarata)"
      ],
      "metadata": {
        "colab": {
          "base_uri": "https://localhost:8080/"
        },
        "id": "ipnatBhoQgwQ",
        "outputId": "3b8669eb-2c9a-41c3-f2f3-526337eaf329"
      },
      "execution_count": null,
      "outputs": [
        {
          "output_type": "stream",
          "name": "stdout",
          "text": [
            "total =  553.11\n",
            "ratarata =  110.622\n"
          ]
        }
      ]
    },
    {
      "cell_type": "markdown",
      "source": [
        "# Kasus kedua"
      ],
      "metadata": {
        "id": "JI9QM5_hTh6P"
      }
    },
    {
      "cell_type": "code",
      "source": [
        "grademhs=[[77, 68, 86, 73],[96, 87, 89, 78], [70, 90, 86, 81]]\n",
        "grademhs"
      ],
      "metadata": {
        "colab": {
          "base_uri": "https://localhost:8080/"
        },
        "id": "jYCGuXJwSj1L",
        "outputId": "6c60f495-a91e-4ae6-b074-9d2461faa6cf"
      },
      "execution_count": null,
      "outputs": [
        {
          "output_type": "execute_result",
          "data": {
            "text/plain": [
              "[[77, 68, 86, 73], [96, 87, 89, 78], [70, 90, 86, 81]]"
            ]
          },
          "metadata": {},
          "execution_count": 15
        }
      ]
    },
    {
      "cell_type": "code",
      "source": [
        "for a in grademhs:\n",
        "    for b in a:\n",
        "        print(b,end=\" \")\n",
        "    print()"
      ],
      "metadata": {
        "colab": {
          "base_uri": "https://localhost:8080/"
        },
        "id": "eQEWgEKKSoi7",
        "outputId": "3d06e6fe-fc47-4c43-eaf0-acf3eac71366"
      },
      "execution_count": null,
      "outputs": [
        {
          "output_type": "stream",
          "name": "stdout",
          "text": [
            "77 68 86 73 \n",
            "96 87 89 78 \n",
            "70 90 86 81 \n"
          ]
        }
      ]
    }
  ]
}