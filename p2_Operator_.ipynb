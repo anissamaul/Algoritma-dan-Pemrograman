{
  "cells": [
    {
      "cell_type": "markdown",
      "metadata": {
        "id": "GPBq_rzB6J9i"
      },
      "source": [
        "#OPERATOR"
      ]
    },
    {
      "cell_type": "markdown",
      "metadata": {
        "id": "5XJyKgkC6aIo"
      },
      "source": [
        "## Operator Aritmatika"
      ]
    },
    {
      "cell_type": "code",
      "execution_count": null,
      "metadata": {
        "id": "pAL-GL4T6Zhf"
      },
      "outputs": [],
      "source": [
        "x = 20\n",
        "y = 6\n",
        "\n",
        "print('x + y =',x+y)\n",
        "print('x - y =',x-y)\n",
        "print('x * y =',x*y)\n",
        "print('x / y =',x/y)\n",
        "print('x // y =',x//y)\n",
        "print('x % y =',x%y)\n",
        "print('x ** y =',x**y)"
      ]
    },
    {
      "cell_type": "code",
      "execution_count": null,
      "metadata": {
        "id": "rU37scpX6oLI",
        "colab": {
          "base_uri": "https://localhost:8080/"
        },
        "outputId": "0041f671-d298-43f1-d1b2-785b28917e69"
      },
      "outputs": [
        {
          "output_type": "stream",
          "name": "stdout",
          "text": [
            "x + y = 30\n",
            "x - y = 20\n",
            "x * y = 125\n",
            "x / y = 5.0\n",
            "x // y = 5\n",
            "x % y = 0\n",
            "x ** y = 9765625\n"
          ]
        }
      ],
      "source": [
        "#Buatlah dengan nilai yang berbeda, x adalah tanggal lahir anda dan y adalah bulan lahir anda!\n",
        "x = 25\n",
        "y = 5\n",
        "\n",
        "print ('x + y =' ,x+y)\n",
        "print ('x - y =' ,x-y)\n",
        "print ('x * y =' ,x*y)\n",
        "print ('x / y =' ,x/y)\n",
        "print ('x // y =' ,x//y)\n",
        "print ('x % y =' ,x%y)\n",
        "print ('x ** y =' ,x**y)"
      ]
    },
    {
      "cell_type": "markdown",
      "metadata": {
        "id": "7ces82Zk7kpu"
      },
      "source": [
        "## Operator Perbandingan"
      ]
    },
    {
      "cell_type": "code",
      "execution_count": null,
      "metadata": {
        "colab": {
          "base_uri": "https://localhost:8080/"
        },
        "id": "TAD6Hyp-67wm",
        "outputId": "31f720e8-f165-4f58-942d-741171b2ad19"
      },
      "outputs": [
        {
          "name": "stdout",
          "output_type": "stream",
          "text": [
            "x = 7\n",
            "y = 10\n",
            "\n",
            "\n",
            "x == y hasilnya False\n",
            "x != y hasilnya True\n",
            "x > y  hasilnya False\n",
            "x < y  hasilnya True\n",
            "x >= y hasilnya False\n",
            "x <= y hasilnya True\n"
          ]
        }
      ],
      "source": [
        "x = 7\n",
        "y = 10\n",
        "\n",
        "print('x =',x)\n",
        "print('y =',y)\n",
        "print('\\n')\n",
        "\n",
        "print('x == y hasilnya',x==y)\n",
        "print('x != y hasilnya',x!=y)\n",
        "print('x > y  hasilnya',x>y)\n",
        "print('x < y  hasilnya',x<y)\n",
        "print('x >= y hasilnya',x>=y)\n",
        "print('x <= y hasilnya',x<=y)"
      ]
    },
    {
      "cell_type": "code",
      "execution_count": null,
      "metadata": {
        "id": "Z_Od57zg7FZU",
        "colab": {
          "base_uri": "https://localhost:8080/"
        },
        "outputId": "3c2a5719-17ce-4e0e-9002-07ebaf09a93e"
      },
      "outputs": [
        {
          "output_type": "stream",
          "name": "stdout",
          "text": [
            "x = 25\n",
            "y = 5\n",
            "\n",
            "\n",
            "x == y hasilnya False\n",
            "x != y hasilnya True\n",
            "x > y hasilnya True\n",
            "x < y hasilnya False\n",
            "x >= y hasilnya True\n",
            "x <= y hasilnya False\n"
          ]
        }
      ],
      "source": [
        "#Buatlah dengan nilai yang berbeda, x adalah tanggal lahir anda dan y adalah bulan lahir anda!\n",
        "x = 25\n",
        "y = 5\n",
        "\n",
        "print ('x =' ,x)\n",
        "print ('y =' ,y)\n",
        "print ('\\n')\n",
        "\n",
        "print ('x == y hasilnya' ,x==y)\n",
        "print ('x != y hasilnya' ,x!=y)\n",
        "print ('x > y hasilnya' ,x>y)\n",
        "print ('x < y hasilnya' ,x<y)\n",
        "print ('x >= y hasilnya' ,x>=y)\n",
        "print ('x <= y hasilnya' ,x<=y)"
      ]
    },
    {
      "cell_type": "markdown",
      "metadata": {
        "id": "C0_o57GRaqlb"
      },
      "source": [
        "##Operator Logika"
      ]
    },
    {
      "cell_type": "code",
      "execution_count": null,
      "metadata": {
        "id": "5GK2bzoccZxF",
        "colab": {
          "base_uri": "https://localhost:8080/"
        },
        "outputId": "9b48e1b4-47e5-4e2e-81d1-7833abeb496d"
      },
      "outputs": [
        {
          "output_type": "stream",
          "name": "stdout",
          "text": [
            "Hasil dari True and True   : True\n",
            "Hasil dari True and False  : False\n",
            "Hasil dari False and True  : False\n",
            "Hasil dari False and False : False\n",
            "\n",
            "\n",
            "Hasil dari True or True   : True\n",
            "Hasil dari True or False  : True\n",
            "Hasil dari False or True  : True\n",
            "Hasil dari False or False : False\n",
            "\n",
            "\n",
            "Hasil dari not True  : False\n",
            "Hasil dari not False : True\n"
          ]
        }
      ],
      "source": [
        "print('Hasil dari True and True   :', True and True)\n",
        "print('Hasil dari True and False  :', True and False)\n",
        "print('Hasil dari False and True  :', False and True)\n",
        "print('Hasil dari False and False :', False and False)\n",
        "\n",
        "print('\\n')\n",
        "\n",
        "print('Hasil dari True or True   :', True or True)\n",
        "print('Hasil dari True or False  :', True or False)\n",
        "print('Hasil dari False or True  :', False or True)\n",
        "print('Hasil dari False or False :', False or False)\n",
        "\n",
        "print('\\n')\n",
        "\n",
        "print('Hasil dari not True  :', not True)\n",
        "print('Hasil dari not False :', not False)"
      ]
    },
    {
      "cell_type": "code",
      "execution_count": null,
      "metadata": {
        "id": "1m_RiRUjcwBv",
        "colab": {
          "base_uri": "https://localhost:8080/"
        },
        "outputId": "a1edda38-890c-4da6-f72f-70e10c807060"
      },
      "outputs": [
        {
          "output_type": "stream",
          "name": "stdout",
          "text": [
            "Hasil dari False and not False : False\n",
            "Hasil dari False or True : True\n",
            "Hasil dari not True and not False : False\n"
          ]
        }
      ],
      "source": [
        "#buatlah variabel untuk mendefinisikan true dan false sesuai yang kalian inginkan!\n",
        "print('Hasil dari False and not False :', False and not False)\n",
        "print('Hasil dari False or True :', False or True)\n",
        "print('Hasil dari not True and not False :', not True and not False)"
      ]
    },
    {
      "cell_type": "markdown",
      "metadata": {
        "id": "praXL_1Ad5y8"
      },
      "source": [
        "##Operator Bitwise"
      ]
    },
    {
      "cell_type": "code",
      "execution_count": null,
      "metadata": {
        "id": "IMkVisCJeFG8"
      },
      "outputs": [],
      "source": [
        "x = 10\n",
        "y = 12\n",
        "\n",
        "print('x berisi angka',x ,'desimal atau',bin(x),'biner')\n",
        "print('y berisi angka',y ,'desimal atau',bin(y),'biner')\n",
        "\n",
        "print('\\n')\n",
        "\n",
        "print('x & y  :',x & y)\n",
        "print('x | y  :',x | y)\n",
        "print('x ^ y  :',x ^ y)\n",
        "print('~x     :',~x)\n",
        "print('x << 1 :',x << 1)\n",
        "print('x >> 1 :',x >> 1)"
      ]
    },
    {
      "cell_type": "markdown",
      "metadata": {
        "id": "UXhof8sQfj2a"
      },
      "source": [
        "##Opertor Assigment (Penugasan)"
      ]
    },
    {
      "cell_type": "code",
      "execution_count": null,
      "metadata": {
        "id": "2i5xv1VdeTOt"
      },
      "outputs": [],
      "source": [
        "a = 5\n",
        "b = 3\n",
        "b = b + 1\n",
        "c = a + b\n",
        "d = c + c + a\n",
        "e = (c + d)* a\n",
        "\n",
        "print('Isi variabel a:',a)\n",
        "print('Isi variabel b:',b)\n",
        "print('Isi variabel c:',c)\n",
        "print('Isi variabel d:',d)\n",
        "print('Isi variabel e:',e)"
      ]
    },
    {
      "cell_type": "code",
      "execution_count": null,
      "metadata": {
        "colab": {
          "base_uri": "https://localhost:8080/"
        },
        "id": "fH0431y8ggkF",
        "outputId": "2aeabc12-c52d-42ce-f954-26fa83d31ce5"
      },
      "outputs": [
        {
          "name": "stdout",
          "output_type": "stream",
          "text": [
            "x += 5  : 15\n",
            "x /= 5  : 2.0\n",
            "x **= 5 : 100000\n",
            "x <<= 2 : 40\n"
          ]
        }
      ],
      "source": [
        "x = 10\n",
        "x += 5\n",
        "print('x += 5  :',x)\n",
        "\n",
        "x = 10\n",
        "x /= 5\n",
        "print('x /= 5  :',x)\n",
        "\n",
        "x = 10\n",
        "x **= 5\n",
        "print('x **= 5 :',x)\n",
        "\n",
        "x = 10\n",
        "x <<= 2\n",
        "print('x <<= 2 :',x)"
      ]
    },
    {
      "cell_type": "markdown",
      "metadata": {
        "id": "5MjI7s_chZRS"
      },
      "source": []
    },
    {
      "cell_type": "markdown",
      "metadata": {
        "id": "1g8b6OqwhEY1"
      },
      "source": [
        "##Operator Identitas"
      ]
    },
    {
      "cell_type": "code",
      "execution_count": null,
      "metadata": {
        "colab": {
          "base_uri": "https://localhost:8080/"
        },
        "id": "aNRxiUjfhJY9",
        "outputId": "57b59f14-a5d8-48e0-81a2-aa65985e3308"
      },
      "outputs": [
        {
          "name": "stdout",
          "output_type": "stream",
          "text": [
            "matakuliah : ['a', 'b', 'c']\n",
            "'i' in matakuliah     : True\n",
            "'k' not in matakuliah : True\n",
            "'d' not in matakuliah : True\n",
            "\n",
            "\n",
            "bar : ['a', 'b', 'c']\n",
            "'a' in bar     : True\n",
            "'a' not in bar : False\n",
            "'d' not in bar : True\n",
            "\n",
            "\n",
            "nilai : (65, 40, 98, 77)\n",
            "102 in nilai     : True\n",
            "102 not in nilai : True\n",
            "35 not in nilai  : True\n"
          ]
        }
      ],
      "source": [
        "mk = 'alpro'\n",
        "print('matakuliah :',x)\n",
        "print('\\'i\\' in matakuliah     :', 'a' in mk)\n",
        "print('\\'k\\' not in matakuliah :', 'k' not in mk)\n",
        "print('\\'d\\' not in matakuliah :', 'd' not in mk)\n",
        "print('\\n' )\n",
        "\n",
        "\n",
        "x = ['a','b','c']\n",
        "print('bar :',x)\n",
        "print('\\'a\\' in bar     :', 'a' in x)\n",
        "print('\\'a\\' not in bar :', 'a' not in x)\n",
        "print('\\'d\\' not in bar :', 'd' not in x)\n",
        "print('\\n')\n",
        "\n",
        "nilai = (65,40,98,77)\n",
        "print('nilai :',nilai)\n",
        "print('102 in nilai     :', 65 in nilai)\n",
        "print('102 not in nilai :', 100 not in nilai)\n",
        "print('35 not in nilai  :', 40 in nilai)"
      ]
    },
    {
      "cell_type": "code",
      "execution_count": null,
      "metadata": {
        "colab": {
          "base_uri": "https://localhost:8080/"
        },
        "id": "6iV4fgzHDKtm",
        "outputId": "d0aea83d-f3ee-47b9-9f6f-7b9d44a0e265",
        "scrolled": true
      },
      "outputs": [
        {
          "name": "stdout",
          "output_type": "stream",
          "text": [
            "bar : ['a', 'b', 'c']\n",
            "'a' is x     : False\n",
            "'a' is not x : True\n",
            "'d' is x : False\n",
            "\n",
            "\n",
            "matakuliah : ['a', 'b', 'c']\n",
            "'alpro' is matakuliah     \t: True\n",
            "'kalkulus' is not matakuliah \t: False\n",
            "'fondasi' is not matakuliah \t: True\n",
            "\n",
            "\n"
          ]
        }
      ],
      "source": [
        "x = ['a','b','c']\n",
        "print('bar :',x)\n",
        "print('\\'a\\' is x     :', 'a' is x)\n",
        "print('\\'a\\' is not x :', 'a' is not x)\n",
        "print('\\'d\\' is x :', 'd' is x)\n",
        "print('\\n')\n",
        "\n",
        "mk = 'alpro'\n",
        "print('matakuliah :',x)\n",
        "print('\\'alpro\\' is matakuliah     \\t:', 'alpro' is mk)\n",
        "print('\\'kalkulus\\' is not matakuliah \\t:', 'kalkulus' is mk)\n",
        "print('\\'fondasi\\' is not matakuliah \\t:', 'fondasi' is not mk)\n",
        "print('\\n' )"
      ]
    },
    {
      "cell_type": "code",
      "execution_count": null,
      "metadata": {
        "id": "W91IpZ5Sj_Vx",
        "outputId": "27f6a626-b30d-4400-cc88-c767c9827ef2"
      },
      "outputs": [
        {
          "name": "stdout",
          "output_type": "stream",
          "text": [
            "matakuliah : ['a', 'b', 'c']\n",
            "'alpro' is matakuliah     \t: True\n",
            "'kalkulus' is not matakuliah \t: False\n",
            "'fondasi' is not matakuliah \t: True\n",
            "\n",
            "\n"
          ]
        }
      ],
      "source": [
        "mk = 'alpro'\n",
        "print('matakuliah :',x)\n",
        "print('\\'alpro\\' is matakuliah     \\t:', 'alpro' is mk)\n",
        "print('\\'kalkulus\\' is not matakuliah \\t:', 'kalkulus' is mk)\n",
        "print('\\'fondasi\\' is not matakuliah \\t:', 'fondasi' is not mk)\n",
        "print('\\n' )"
      ]
    },
    {
      "cell_type": "code",
      "execution_count": null,
      "metadata": {
        "id": "RFlUge31H-9v",
        "colab": {
          "base_uri": "https://localhost:8080/"
        },
        "outputId": "55fedd28-f812-4745-a1ee-4caacf38ca07"
      },
      "outputs": [
        {
          "output_type": "stream",
          "name": "stdout",
          "text": [
            "glitchmode : drive\n",
            "'drive' is glitchmode \t: True\n",
            "'reply' is glitchmode \t: False\n",
            "'riddin' is not glitchmode \t: True\n"
          ]
        }
      ],
      "source": [
        "gm = 'drive'\n",
        "print('glitchmode :',gm)\n",
        "print('\\'drive\\' is glitchmode \\t:', 'drive' is gm)\n",
        "print('\\'reply\\' is glitchmode \\t:', 'reply' is gm)\n",
        "print('\\'riddin\\' is not glitchmode \\t:', 'riddin' is not gm)"
      ]
    }
  ],
  "metadata": {
    "colab": {
      "provenance": []
    },
    "kernelspec": {
      "display_name": "Python 3",
      "language": "python",
      "name": "python3"
    },
    "language_info": {
      "codemirror_mode": {
        "name": "ipython",
        "version": 3
      },
      "file_extension": ".py",
      "mimetype": "text/x-python",
      "name": "python",
      "nbconvert_exporter": "python",
      "pygments_lexer": "ipython3",
      "version": "3.7.4"
    }
  },
  "nbformat": 4,
  "nbformat_minor": 0
}