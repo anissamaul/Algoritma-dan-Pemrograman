{
  "nbformat": 4,
  "nbformat_minor": 0,
  "metadata": {
    "colab": {
      "provenance": []
    },
    "kernelspec": {
      "name": "python3",
      "display_name": "Python 3"
    }
  },
  "cells": [
    {
      "cell_type": "markdown",
      "metadata": {
        "id": "0KrQhq25d3XW"
      },
      "source": [
        "##  **Input & Output pada Pyhton**"
      ]
    },
    {
      "cell_type": "markdown",
      "metadata": {
        "id": "q9n37nDmd8-5"
      },
      "source": [
        "Kita akan memulai dengan mencoba mengenal dan memahami proses input dan output pada bahasa pemrograman python. Sebuah Program terdiri dari Input, Proses dan Output\n",
        "\n",
        "**Membuat input dengan fungsi input()**\n",
        "\n",
        "format input() :\n",
        "input(*object, nilai)\n",
        "\n",
        "Sebuah input dapat dikelola berdasarkan tipe datanya :\n",
        "\n",
        "* input() : nilai berupa string\n",
        "\n",
        "* str(input()) : nilai berupa string\n",
        "\n",
        "* int(input()) : nilai berupa integer\n",
        "\n",
        "* float(input()) : nilai berupa float\n",
        "\n",
        "* bool(input()) : nilai berupa boolean\n",
        "\n",
        "**Untuk menampilkan Output dengan fungsi print()**\n",
        "\n",
        "format print() :\n",
        "print(*object, sep=' ', end='\\n', file=sys.stdout, flush=False/True)"
      ]
    },
    {
      "cell_type": "code",
      "metadata": {
        "id": "owIrz7XYeZb-",
        "colab": {
          "base_uri": "https://localhost:8080/"
        },
        "outputId": "e595df24-f36e-4ac2-83c2-11d6a859413a"
      },
      "source": [
        "# Membuat input bertipe data string (str)\n",
        "nama = input(\"Nama : \")\n",
        "umur = input(\"Umur : \")\n",
        "alamat = input(\"Alamat : \")"
      ],
      "execution_count": null,
      "outputs": [
        {
          "name": "stdout",
          "output_type": "stream",
          "text": [
            "Nama : ummu\n",
            "Umur : 21\n",
            "Alamat : jogja\n"
          ]
        }
      ]
    },
    {
      "cell_type": "code",
      "metadata": {
        "id": "AUYUbTLklIax",
        "colab": {
          "base_uri": "https://localhost:8080/"
        },
        "outputId": "b45f0dc1-bf37-4064-e15d-79e46f9175cc"
      },
      "source": [
        "print(nama)\n",
        "print(umur)\n",
        "type(nama)\n",
        "type(umur)"
      ],
      "execution_count": null,
      "outputs": [
        {
          "output_type": "stream",
          "name": "stdout",
          "text": [
            "Ummu \n",
            "21\n"
          ]
        },
        {
          "output_type": "execute_result",
          "data": {
            "text/plain": [
              "str"
            ]
          },
          "metadata": {},
          "execution_count": 4
        }
      ]
    },
    {
      "cell_type": "code",
      "metadata": {
        "id": "iIe-IGH9ecEk",
        "colab": {
          "base_uri": "https://localhost:8080/"
        },
        "outputId": "8a54870b-d542-4f43-f944-a0b8f70c97e2"
      },
      "source": [
        "# Membuat input bertipe data integer (int)\n",
        "angka = int(input())\n",
        "aku=float(input())\n",
        "print(aku)\n",
        "print(angka)"
      ],
      "execution_count": null,
      "outputs": [
        {
          "output_type": "stream",
          "name": "stdout",
          "text": [
            "31\n",
            "31\n",
            "31.0\n",
            "31\n"
          ]
        }
      ]
    },
    {
      "cell_type": "code",
      "metadata": {
        "id": "UKWV8tPHedhw",
        "colab": {
          "base_uri": "https://localhost:8080/"
        },
        "outputId": "2bf4a684-fc48-42a0-be5b-a575c790dd5b"
      },
      "source": [
        "# Membuat input beripe data float\n",
        "angka = float(input())\n",
        "print(angka)\n"
      ],
      "execution_count": null,
      "outputs": [
        {
          "output_type": "stream",
          "text": [
            "12\n",
            "12.0\n"
          ],
          "name": "stdout"
        }
      ]
    },
    {
      "cell_type": "markdown",
      "metadata": {
        "id": "frV9dqp5jlBD"
      },
      "source": [
        "Saatnya kamu mencoba!!!"
      ]
    },
    {
      "cell_type": "code",
      "metadata": {
        "id": "tKNsgrWujn49",
        "colab": {
          "base_uri": "https://localhost:8080/"
        },
        "outputId": "d5148ca7-cd21-4630-d75f-4c55c65c1aa8"
      },
      "source": [
        "# Membuat input bertipe data string (str)\n",
        "nama = input(\"Nama : \")\n",
        "umur = input(\"Umur : \")\n",
        "alamat = input(\"Alamat : \")"
      ],
      "execution_count": null,
      "outputs": [
        {
          "name": "stdout",
          "output_type": "stream",
          "text": [
            "Nama : Anissa Maulidyah\n",
            "Umur : 19\n",
            "Alamat : Gunungkidul\n"
          ]
        }
      ]
    },
    {
      "cell_type": "code",
      "source": [
        "print(nama)\n",
        "print(umur)\n",
        "type(nama)"
      ],
      "metadata": {
        "colab": {
          "base_uri": "https://localhost:8080/"
        },
        "id": "bRu5dkdOkic-",
        "outputId": "91f1e1c9-b42d-4555-803f-c7096a959af4"
      },
      "execution_count": null,
      "outputs": [
        {
          "output_type": "stream",
          "name": "stdout",
          "text": [
            "Anissa Maulidyah\n",
            "19\n"
          ]
        },
        {
          "output_type": "execute_result",
          "data": {
            "text/plain": [
              "str"
            ]
          },
          "metadata": {},
          "execution_count": 2
        }
      ]
    },
    {
      "cell_type": "code",
      "source": [
        "# Membuat input bertipe data integer (int)\n",
        "angka = int(input())\n",
        "aku=float(input())\n",
        "print(aku)\n",
        "print(angka)"
      ],
      "metadata": {
        "id": "EU_zAkadkpdm"
      },
      "execution_count": null,
      "outputs": []
    },
    {
      "cell_type": "markdown",
      "metadata": {
        "id": "hN1PZcobegAQ"
      },
      "source": [
        "**Menampilkan Output cara pertama**\n"
      ]
    },
    {
      "cell_type": "code",
      "metadata": {
        "id": "YJKK2Fmmej8J",
        "colab": {
          "base_uri": "https://localhost:8080/"
        },
        "outputId": "baaa2ac3-dc03-42c1-ba4b-74e087a61a2f"
      },
      "source": [
        "print(\"Nama saya\"+\" \"+ nama + \" \" + \"yang berumur\"+ \" \" + umur + \" \" + \"dan bertempat tinggal di\"+ \" \" + alamat)"
      ],
      "execution_count": null,
      "outputs": [
        {
          "output_type": "stream",
          "name": "stdout",
          "text": [
            "Nama saya ummu yang berumur 21 dan bertempat tinggal di jogja\n"
          ]
        }
      ]
    },
    {
      "cell_type": "markdown",
      "metadata": {
        "id": "tzkB1SQ1jqPM"
      },
      "source": [
        "Saatnya kamu mencoba!!!"
      ]
    },
    {
      "cell_type": "code",
      "source": [
        "print(\"Nama saya\"+\" \"+ nama + \" \" + \"yang berumur\"+ \" \" + umur + \" \" + \"dan bertempat tinggal di\"+ \" \" + alamat)"
      ],
      "metadata": {
        "colab": {
          "base_uri": "https://localhost:8080/"
        },
        "id": "-Q9voddYk7nb",
        "outputId": "ce7020c9-d38e-4d3a-884c-abca50c93242"
      },
      "execution_count": null,
      "outputs": [
        {
          "output_type": "stream",
          "name": "stdout",
          "text": [
            "Nama saya Anissa Maulidyah yang berumur 19 dan bertempat tinggal di Gunungkidul\n"
          ]
        }
      ]
    },
    {
      "cell_type": "code",
      "metadata": {
        "colab": {
          "base_uri": "https://localhost:8080/"
        },
        "id": "WkOIGuOuA1uv",
        "outputId": "a845ba94-f719-4fe6-cb0d-eb012a5dedda"
      },
      "source": [
        "kamu=input(\"universitas\")\n",
        "print(kamu)"
      ],
      "execution_count": null,
      "outputs": [
        {
          "output_type": "stream",
          "text": [
            "universitas ahmad dahlan\n",
            " ahmad dahlan\n"
          ],
          "name": "stdout"
        }
      ]
    },
    {
      "cell_type": "code",
      "metadata": {
        "id": "p5Z-jMEijtlV",
        "colab": {
          "base_uri": "https://localhost:8080/"
        },
        "outputId": "6141d8f7-1584-49e1-caf8-454c76b1143e"
      },
      "source": [
        "print(' nama saya'+\" \"+ nama +\" \"+'universitas'+ \" \"+ kamu +' kota'+\" \"+ alamat)"
      ],
      "execution_count": null,
      "outputs": [
        {
          "output_type": "stream",
          "text": [
            " nama saya anggiboy universitas  ahmad dahlan kota barcelona\n"
          ],
          "name": "stdout"
        }
      ]
    },
    {
      "cell_type": "markdown",
      "metadata": {
        "id": "XSSsrFkEemXP"
      },
      "source": [
        "**Menampilkan Output cara kedua**\n",
        "\n",
        "Menggunakan fungsi format()"
      ]
    },
    {
      "cell_type": "code",
      "metadata": {
        "id": "mavFHYasj3RL",
        "colab": {
          "base_uri": "https://localhost:8080/",
          "height": 35
        },
        "outputId": "28c7df55-e1f2-436c-e969-dc24fa3fd3fa"
      },
      "source": [
        "txt1 = \"Nama saya {nama}, Saya berumur {umur}\".format(nama = \"epa\", umur = 21)\n",
        "txt1"
      ],
      "execution_count": null,
      "outputs": [
        {
          "output_type": "execute_result",
          "data": {
            "application/vnd.google.colaboratory.intrinsic+json": {
              "type": "string"
            },
            "text/plain": [
              "'Nama saya epa, Saya berumur 21'"
            ]
          },
          "metadata": {
            "tags": []
          },
          "execution_count": 29
        }
      ]
    },
    {
      "cell_type": "code",
      "metadata": {
        "id": "MgiB5WBOkxzY",
        "colab": {
          "base_uri": "https://localhost:8080/",
          "height": 35
        },
        "outputId": "baa9b3ed-c14b-410b-c2f8-494483d4df30"
      },
      "source": [
        "txt2 = \"Nama saya {0}, Saya berumur {1}, tinggal di {2}\".format(\"Dahlan\",18, \"Jogja\")\n",
        "txt2"
      ],
      "execution_count": null,
      "outputs": [
        {
          "output_type": "execute_result",
          "data": {
            "application/vnd.google.colaboratory.intrinsic+json": {
              "type": "string"
            },
            "text/plain": [
              "'Nama saya Dahlan, Saya berumur 18, tinggal di Jogja'"
            ]
          },
          "metadata": {
            "tags": []
          },
          "execution_count": 31
        }
      ]
    },
    {
      "cell_type": "code",
      "metadata": {
        "id": "fKGVHjq7kyo_",
        "colab": {
          "base_uri": "https://localhost:8080/",
          "height": 35
        },
        "outputId": "74282fb4-e29a-4df3-f345-b04c433074b2"
      },
      "source": [
        "txt3 = \"Nama saya {0}, Saya berumur {1}\".format(\"Dahlan\",18)\n",
        "txt3"
      ],
      "execution_count": null,
      "outputs": [
        {
          "output_type": "execute_result",
          "data": {
            "application/vnd.google.colaboratory.intrinsic+json": {
              "type": "string"
            },
            "text/plain": [
              "'Nama saya Dahlan, Saya berumur 18'"
            ]
          },
          "metadata": {
            "tags": []
          },
          "execution_count": 35
        }
      ]
    },
    {
      "cell_type": "markdown",
      "metadata": {
        "id": "Ho1x_r1Sk-KX"
      },
      "source": [
        "Saatnya kamu mencoba!!!"
      ]
    },
    {
      "cell_type": "code",
      "metadata": {
        "id": "T66KZDWyk_AN",
        "colab": {
          "base_uri": "https://localhost:8080/",
          "height": 35
        },
        "outputId": "4a05ec90-d5be-4af4-f4b7-c1081d5d00aa"
      },
      "source": [
        "txt1 = \"Nama saya {nama}, Saya berumur {umur}\".format(nama = \"anissa\", umur = 19)\n",
        "txt1"
      ],
      "execution_count": null,
      "outputs": [
        {
          "output_type": "execute_result",
          "data": {
            "text/plain": [
              "'Nama saya anissa, Saya berumur 19'"
            ],
            "application/vnd.google.colaboratory.intrinsic+json": {
              "type": "string"
            }
          },
          "metadata": {},
          "execution_count": 19
        }
      ]
    },
    {
      "cell_type": "code",
      "source": [
        "txt2 = \"Nama saya {0}, Saya berumur {1}, tinggal di {2}\".format(\"Anissa\",19, \"Gunungkidul\")\n",
        "txt2"
      ],
      "metadata": {
        "colab": {
          "base_uri": "https://localhost:8080/",
          "height": 35
        },
        "id": "VwEfJqD0uqmA",
        "outputId": "c7eb6e5f-46a5-469e-c154-498c05a7f496"
      },
      "execution_count": null,
      "outputs": [
        {
          "output_type": "execute_result",
          "data": {
            "text/plain": [
              "'Nama saya Anissa, Saya berumur 19, tinggal di Gunungkidul'"
            ],
            "application/vnd.google.colaboratory.intrinsic+json": {
              "type": "string"
            }
          },
          "metadata": {},
          "execution_count": 20
        }
      ]
    },
    {
      "cell_type": "code",
      "source": [
        "txt3 = \"Nama saya {0}, Saya berumur {1}\".format(\"Anissa\",19)\n",
        "txt3"
      ],
      "metadata": {
        "colab": {
          "base_uri": "https://localhost:8080/",
          "height": 35
        },
        "id": "L-6i_kpxutVZ",
        "outputId": "b12ff96a-9d39-4d49-882a-227d10e1251f"
      },
      "execution_count": null,
      "outputs": [
        {
          "output_type": "execute_result",
          "data": {
            "text/plain": [
              "'Nama saya Anissa, Saya berumur 19'"
            ],
            "application/vnd.google.colaboratory.intrinsic+json": {
              "type": "string"
            }
          },
          "metadata": {},
          "execution_count": 21
        }
      ]
    },
    {
      "cell_type": "markdown",
      "metadata": {
        "id": "uYCMhDyWeqTZ"
      },
      "source": [
        "**Menampilkan Output cara ketiga**\n",
        "\n",
        "Menggunakan simbol %\n",
        "\n",
        "* %c : mencetak karakter\n",
        "\n",
        "* %s : mencetak data menjadi string\n",
        "\n",
        "* %i, %d : mencetak angka desimal bertanda\n",
        "* %u : mencetak angka desimal tak bertanda\n",
        "* %x, %X : mencetak angka heksa dengan huruf kecil %x atau besar %X\n",
        "* %f : mencetak angka real berkoma\n",
        "* %e, %E : mencetak tanda eksponensial dengan huruf kecil %e atau besar %E\n",
        "* %g, %G : fungsi hampir sama dengan %f dan %e hanya saja pencetakan angak di belakang koma lebih pendek"
      ]
    },
    {
      "cell_type": "code",
      "metadata": {
        "id": "0bz0OcMzetR-",
        "colab": {
          "base_uri": "https://localhost:8080/"
        },
        "outputId": "d8e9b547-90bd-425a-a436-a6532b91dcd0"
      },
      "source": [
        "print(\"Nama saya %s yang berumur %s dan bertempat tinggal di %s\" %(nama, umur, alamat))"
      ],
      "execution_count": null,
      "outputs": [
        {
          "output_type": "stream",
          "text": [
            "Nama saya anggiboy yang berumur 21 dan bertempat tinggal di barcelona\n"
          ],
          "name": "stdout"
        }
      ]
    },
    {
      "cell_type": "markdown",
      "metadata": {
        "id": "W8oWmIBplFdL"
      },
      "source": [
        "Saatnya kamu mencoba!!!"
      ]
    },
    {
      "cell_type": "code",
      "metadata": {
        "id": "zDzKyrpUlGXD",
        "colab": {
          "base_uri": "https://localhost:8080/"
        },
        "outputId": "b13ea703-f0aa-4fb2-f3e0-69363186407f"
      },
      "source": [
        "print(\"Nama saya %s yang berumur %s dan bertempat tinggal di %s\" %(nama, umur, alamat))"
      ],
      "execution_count": null,
      "outputs": [
        {
          "output_type": "stream",
          "name": "stdout",
          "text": [
            "Nama saya Anissa Maulidyah yang berumur 19 dan bertempat tinggal di Gunungkidul\n"
          ]
        }
      ]
    },
    {
      "cell_type": "markdown",
      "metadata": {
        "id": "Lus7pe_3tD6n"
      },
      "source": [
        "## **Variabel, Tipe Data, Dan Konversinya**"
      ]
    },
    {
      "cell_type": "markdown",
      "metadata": {
        "id": "KJx8rxdzlKgR"
      },
      "source": [
        "Selanjutnya kita akan mengenal variabel dan tipe data pada python. Ini merupakan dasar yang harus dipahami di awal sebelum melanjutkan ke materi berikutnya. Pertama kita akan memahami bagaimana sebuah variabel dituliskan dalam python."
      ]
    },
    {
      "cell_type": "markdown",
      "metadata": {
        "id": "7Mzb7KbGvX4O"
      },
      "source": [
        "### Variabel"
      ]
    },
    {
      "cell_type": "markdown",
      "metadata": {
        "id": "57FeEUMgvaIj"
      },
      "source": [
        "*   Variabel merupakan tempat penyimpanan data atau nilai\n",
        "*   Sebuah variabel dalam python bisa diisi dengan berbagai tipe data\n",
        "*   Nama sebuah variabel tidak bisa diawali dengan angka/numerik\n",
        "*   Nama sebuah variabel selain keyword dari bahasa python\n",
        "*   Format variabel : Nama_variabel = data/nilai"
      ]
    },
    {
      "cell_type": "markdown",
      "metadata": {
        "id": "dO2t9vXyvv-A"
      },
      "source": [
        "**Membuat sebuah variabel dengan berbagai tipe data Python**"
      ]
    },
    {
      "cell_type": "code",
      "metadata": {
        "id": "VadqbpNStZvE"
      },
      "source": [
        "var1 = 'Assalamualaikum' #String\n",
        "var2 = 1234567890 # int\n",
        "var3 = 0.123456789 # float\n",
        "var4 = False #bool\n",
        "var5 = 1j+1 #complex"
      ],
      "execution_count": null,
      "outputs": []
    },
    {
      "cell_type": "markdown",
      "metadata": {
        "id": "rtPG7Nwrv00R"
      },
      "source": [
        "Buat variabelmu sendiri di bawah ini ya!"
      ]
    },
    {
      "cell_type": "code",
      "metadata": {
        "id": "xTlpIfrav6B1",
        "colab": {
          "base_uri": "https://localhost:8080/"
        },
        "outputId": "f5e22822-8899-4858-f92e-29486fcf3d76"
      },
      "source": [
        "var7=' belajar bersama ummu'\n",
        "print(var7)"
      ],
      "execution_count": null,
      "outputs": [
        {
          "output_type": "stream",
          "name": "stdout",
          "text": [
            " belajar bersama ummu\n"
          ]
        }
      ]
    },
    {
      "cell_type": "markdown",
      "metadata": {
        "id": "gAC3CAFawHJ1"
      },
      "source": [
        "**Memanggil variabel dan menampilkan**"
      ]
    },
    {
      "cell_type": "markdown",
      "metadata": {
        "id": "996pBnxgwNf0"
      },
      "source": [
        "Kamu dapat memanggil variabel hanya dengan menuliskan variabel yang sudah kamu buat di atas dan menjalankan cellnya"
      ]
    },
    {
      "cell_type": "code",
      "metadata": {
        "id": "g6_bbvvZwVhY",
        "colab": {
          "base_uri": "https://localhost:8080/"
        },
        "outputId": "c3170552-6485-415c-adb8-caf05d892737"
      },
      "source": [
        "var1\n",
        "var2\n"
      ],
      "execution_count": null,
      "outputs": [
        {
          "output_type": "execute_result",
          "data": {
            "text/plain": [
              "1234567890"
            ]
          },
          "metadata": {},
          "execution_count": 12
        }
      ]
    },
    {
      "cell_type": "markdown",
      "metadata": {
        "id": "4eUl4LHlwZr3"
      },
      "source": [
        "Saatnya kamu mencoba!!!"
      ]
    },
    {
      "cell_type": "code",
      "metadata": {
        "id": "zB0xLVZcwh7D"
      },
      "source": [
        "var1 = 'saturday drip' #String\n",
        "var2 = 13082000 # int\n",
        "var3 = 0.20525 # float\n",
        "var4 = False #bool\n",
        "var5 = 3j+7 #complex"
      ],
      "execution_count": null,
      "outputs": []
    },
    {
      "cell_type": "code",
      "metadata": {
        "id": "o_0CkJeoR526",
        "colab": {
          "base_uri": "https://localhost:8080/"
        },
        "outputId": "451f44af-6be0-444f-d0e7-7e9a43f94029"
      },
      "source": [
        "var7=' glitch mode'\n",
        "print(var7)"
      ],
      "execution_count": null,
      "outputs": [
        {
          "output_type": "stream",
          "name": "stdout",
          "text": [
            " glitch mode\n"
          ]
        }
      ]
    },
    {
      "cell_type": "code",
      "source": [
        "var3"
      ],
      "metadata": {
        "colab": {
          "base_uri": "https://localhost:8080/"
        },
        "id": "b1TUKhnulWN-",
        "outputId": "1c5999aa-76f4-4329-988c-46f28f489959"
      },
      "execution_count": null,
      "outputs": [
        {
          "output_type": "execute_result",
          "data": {
            "text/plain": [
              "0.20525"
            ]
          },
          "metadata": {},
          "execution_count": 7
        }
      ]
    },
    {
      "cell_type": "markdown",
      "metadata": {
        "id": "_fXoG5cvwliz"
      },
      "source": [
        "Selain itu, kamu juga bisa mencetak, atau menampilkan variabel yang sudah kamu buat dengan cara memasukkan syntak **print(*variable*)**. Contohnya sebagai berikut:"
      ]
    },
    {
      "cell_type": "code",
      "metadata": {
        "id": "1QQDTfwgw1X4",
        "colab": {
          "base_uri": "https://localhost:8080/"
        },
        "outputId": "99fb9363-93d5-4186-a00c-9f99d7ac607d"
      },
      "source": [
        "print(var1) #tipe data string\n",
        "print(var2) #tipe data integer\n",
        "print(var3) #tipe data float\n",
        "print(var4) #tipe data boolean\n",
        "print(var5) #tipe data Complex"
      ],
      "execution_count": null,
      "outputs": [
        {
          "output_type": "stream",
          "name": "stdout",
          "text": [
            "Assalamualaikum\n",
            "1234567890\n",
            "0.123456789\n",
            "False\n",
            "(1+1j)\n"
          ]
        }
      ]
    },
    {
      "cell_type": "markdown",
      "metadata": {
        "id": "sx2xL6rBw4DI"
      },
      "source": [
        "Sekarang, tampilkan variabelmu sendiri:"
      ]
    },
    {
      "cell_type": "code",
      "metadata": {
        "id": "8JJMEObiw8UA",
        "colab": {
          "base_uri": "https://localhost:8080/"
        },
        "outputId": "eafafb0b-f066-4129-9180-cb4b3233691d"
      },
      "source": [
        "#Mencetak variabel punya kamuuch\n",
        "#String\n",
        "print(var1) #tipe data string\n",
        "#Int\n",
        "print(var2) #tipe data integer\n",
        "#Float\n",
        "print(var3) #tipe data float\n",
        "#Boolean\n",
        "print(var4) #tipe data boolean\n",
        "#Complex\n",
        "print(var5) #tipe data Complex"
      ],
      "execution_count": null,
      "outputs": [
        {
          "output_type": "stream",
          "name": "stdout",
          "text": [
            "saturday drip\n",
            "13082000\n",
            "0.20525\n",
            "False\n",
            "(7+3j)\n"
          ]
        }
      ]
    },
    {
      "cell_type": "markdown",
      "metadata": {
        "id": "2bbm3gzTxF7i"
      },
      "source": [
        "Note: Tanda Pagar (#) berfungsi sebagai komentar, tidak dijalankan sebagai perintah pemrograman"
      ]
    },
    {
      "cell_type": "markdown",
      "metadata": {
        "id": "2F-xcS4yxlHN"
      },
      "source": [
        "### Tipe Data"
      ]
    },
    {
      "cell_type": "markdown",
      "metadata": {
        "id": "SgWP52IMmFtz"
      },
      "source": [
        "Tipe data adalah kumpulan tipe yang dapat kamu temukan di semua data. Dengan memahami tipe data, kamu dapat menentukan nilai data yang dimiliki dari data tersebut."
      ]
    },
    {
      "cell_type": "markdown",
      "metadata": {
        "id": "llL51Zdwxwpb"
      },
      "source": [
        "\n",
        "**Mengenal Beberapa Tipe Data Pada Python:**\n",
        "1.   String\n",
        "2.   Number (Integer, Float, Complex, Boolean)\n"
      ]
    },
    {
      "cell_type": "markdown",
      "metadata": {
        "id": "eLHFbBYox2WK"
      },
      "source": [
        "**Melihat Tipe Data dari Suatu Variabel**"
      ]
    },
    {
      "cell_type": "markdown",
      "metadata": {
        "id": "kw7AVHzXx3u9"
      },
      "source": [
        "Kamu bisa melihat tipe variabel yang sudah kamu buat,apakah tipe data kamu adalah int, float, boolean, string, dll menggunakan fungsi **type(*variabel*)**, sebagai berikut:"
      ]
    },
    {
      "cell_type": "code",
      "metadata": {
        "id": "0cliBOA8x00W",
        "colab": {
          "base_uri": "https://localhost:8080/"
        },
        "outputId": "89f0d606-f22a-49eb-ba7b-834de3bb79a5"
      },
      "source": [
        "type(var1)"
      ],
      "execution_count": null,
      "outputs": [
        {
          "output_type": "execute_result",
          "data": {
            "text/plain": [
              "str"
            ]
          },
          "metadata": {},
          "execution_count": 14
        }
      ]
    },
    {
      "cell_type": "code",
      "source": [
        "type(\"ummu\")"
      ],
      "metadata": {
        "colab": {
          "base_uri": "https://localhost:8080/"
        },
        "id": "CpN3Q10jkAuF",
        "outputId": "158167d7-6819-4ea5-f34c-b915e1ad7f5d"
      },
      "execution_count": null,
      "outputs": [
        {
          "output_type": "execute_result",
          "data": {
            "text/plain": [
              "str"
            ]
          },
          "metadata": {},
          "execution_count": 16
        }
      ]
    },
    {
      "cell_type": "markdown",
      "metadata": {
        "id": "B6V8BwCbyVIg"
      },
      "source": [
        "Sekarang coba kamu cek tipe variabel yang udah kamu buat!!!"
      ]
    },
    {
      "cell_type": "code",
      "metadata": {
        "id": "-T8yJE3TyZAn",
        "colab": {
          "base_uri": "https://localhost:8080/"
        },
        "outputId": "ab391bb6-7ea4-4b07-917e-59f248561f7d"
      },
      "source": [
        "#Mengecek tipe variabel\n",
        "#String\n",
        "type(\"fire alarm\")\n",
        "#Int\n",
        "type(13)\n",
        "#Float\n",
        "type(0.90197)\n",
        "#Boolean\n",
        "type(False)\n",
        "#Complex\n",
        "type(7+1j)"
      ],
      "execution_count": null,
      "outputs": [
        {
          "output_type": "execute_result",
          "data": {
            "text/plain": [
              "complex"
            ]
          },
          "metadata": {},
          "execution_count": 23
        }
      ]
    },
    {
      "cell_type": "markdown",
      "metadata": {
        "id": "spcVxw41ygO3"
      },
      "source": [
        "Kok yang tampil cuma yang terakhir!!!, ya emang begitu, python hanya akan ngejalanin line terakhir untuk ditampilin, biar tampil semua maka kita print aja seperti di bawah ini:"
      ]
    },
    {
      "cell_type": "code",
      "metadata": {
        "id": "HS7qXuc2zAw9",
        "colab": {
          "base_uri": "https://localhost:8080/",
          "height": 102
        },
        "outputId": "721c8291-9092-4b7d-ee59-614d396302a6"
      },
      "source": [
        "print(var1,'Tipe data var1:', type(var1))\n",
        "print(var2,'Tipe data var2:', type(var2))\n",
        "print(var3,'Tipe data var3:', type(var3))\n",
        "print(var4,'Tipe data var4:', type(var4))\n",
        "print(var5,'Tipe data var5:', type(var5))"
      ],
      "execution_count": null,
      "outputs": [
        {
          "output_type": "stream",
          "text": [
            "Assalamualaikum Dunia! Tipe data var1: <class 'str'>\n",
            "1234567890 Tipe data var2: <class 'int'>\n",
            "0.123456789 Tipe data var3: <class 'float'>\n",
            "False Tipe data var4: <class 'bool'>\n",
            "(1+1j) Tipe data var5: <class 'complex'>\n"
          ],
          "name": "stdout"
        }
      ]
    },
    {
      "cell_type": "markdown",
      "metadata": {
        "id": "2HFv--oSzIGb"
      },
      "source": [
        "### Konversi Tipe Data"
      ]
    },
    {
      "cell_type": "markdown",
      "metadata": {
        "id": "paR8fwYXzK0y"
      },
      "source": [
        "Capek gag sih, bikin data baru mulu untuk sebuah tipe data yang berbeda. Kalo capek ya udah, rehat dulu. Nah ada cara lain sih, yaitu dengan mengubah tipe data yang udah kita miliki menjadi tipe data yang kita inginkan. Kadang gag harus ganti kan, cukup komit untuk merubah hal-hal yang sudah ada sesuai keinginan kita. OK Lanjuut.\n",
        "\n",
        "Intinya mah misal kita punya variabel tipenya int tapi kita butuh variabel itu jadi float ya kita bisa konversi, gimana caranya?\n",
        "\n",
        "Pake fungsi donk, fungsinya macem-macem, tapi intinya adalah fungsinya bernama tipe data baru yang ingin kita buat kemudian inputnya adalah tipe data yang mau kita ubah. Begono.\n",
        "\n"
      ]
    },
    {
      "cell_type": "markdown",
      "metadata": {
        "id": "V3WgQpDQfVdP"
      },
      "source": [
        "Bingung?\n",
        "Ini lho macam-macam fungsinya:\n",
        "\n",
        "Fungsi untuk mengubah/konversi tipe data:\n",
        "\n",
        "a. int() : untuk mengubah menjadi integer\n",
        "\n",
        "b. float() : untuk mengubah menjadi float\n",
        "\n",
        "c. str() : untuk mengubah menjadi string\n",
        "\n",
        "d. bool() : untuk mengubah menjadi boolean\n",
        "\n",
        "e. long() : untuk mengubah menjadi integer panjang\n",
        "\n",
        "f. chr() : untuk mengubah menjadi karakter\n",
        "\n",
        "g. bin() : untuk mengubah menjadi bilangan biner\n",
        "\n",
        "h. hex() : untuk mengubah menjadi bilangan Heksadesimal\n",
        "\n",
        "i. oct() : untuk mengubah menjadi bilangan okta\n",
        "\n",
        "Contohnya ini ya:"
      ]
    },
    {
      "cell_type": "code",
      "metadata": {
        "id": "plkvjAkY0HoX",
        "colab": {
          "base_uri": "https://localhost:8080/"
        },
        "outputId": "f4b401f7-5d38-4ad3-f4d2-274c9101764d"
      },
      "source": [
        "number = 10\n",
        "print(\"data =\", number, \", type =\", type(number))"
      ],
      "execution_count": null,
      "outputs": [
        {
          "output_type": "stream",
          "name": "stdout",
          "text": [
            "data = 10 , type = <class 'int'>\n"
          ]
        }
      ]
    },
    {
      "cell_type": "code",
      "metadata": {
        "id": "1TEC5edF0Mi_",
        "colab": {
          "base_uri": "https://localhost:8080/"
        },
        "outputId": "faa944ac-2651-4a3f-e7ca-80ee444f798d"
      },
      "source": [
        "# Mengkonversi tipe data integer\n",
        "kon_float = float(number)\n",
        "kon_str = str(number)\n",
        "kon_bool = bool(number) #False jika integer = 0, lainnya True (perhatikan hasilnya)\n",
        "\n",
        "# Melihat data yang telah dikonversi\n",
        "print(\"data = \", kon_float , \",type =\", type(kon_float))\n",
        "print(\"data = \", kon_str , \",type =\", type(kon_str))\n",
        "print(\"data = \", kon_bool , \",type =\", type(kon_bool))"
      ],
      "execution_count": null,
      "outputs": [
        {
          "output_type": "stream",
          "name": "stdout",
          "text": [
            "data =  10.0 ,type = <class 'float'>\n",
            "data =  10 ,type = <class 'str'>\n",
            "data =  True ,type = <class 'bool'>\n"
          ]
        }
      ]
    },
    {
      "cell_type": "markdown",
      "metadata": {
        "id": "QLayxkuqnD4Q"
      },
      "source": [
        "Saatnya kamu mencoba!!!"
      ]
    },
    {
      "cell_type": "code",
      "metadata": {
        "id": "usm18JyhBc_l",
        "colab": {
          "base_uri": "https://localhost:8080/"
        },
        "outputId": "3458fcfb-6ca0-40b2-99c7-e563c4fcf44c"
      },
      "source": [
        "number = 73\n",
        "print(\"data =\", number, \", type =\", type(number))"
      ],
      "execution_count": null,
      "outputs": [
        {
          "output_type": "stream",
          "name": "stdout",
          "text": [
            "data = 73 , type = <class 'int'>\n"
          ]
        }
      ]
    },
    {
      "cell_type": "code",
      "source": [
        "# Mengkonversi tipe data integer\n",
        "kon_float = float(number)\n",
        "kon_str = str(number)\n",
        "kon_bool = bool(number) #False jika integer = 0, lainnya True (perhatikan hasilnya)\n",
        "\n",
        "# Melihat data yang telah dikonversi\n",
        "print(\"data = \", kon_float , \",type =\", type(kon_float))\n",
        "print(\"data = \", kon_str , \",type =\", type(kon_str))\n",
        "print(\"data = \", kon_bool , \",type =\", type(kon_bool))"
      ],
      "metadata": {
        "colab": {
          "base_uri": "https://localhost:8080/"
        },
        "id": "UcEwjqapmiO-",
        "outputId": "039a76f3-097d-4ceb-ced8-602c6e7aa7bc"
      },
      "execution_count": null,
      "outputs": [
        {
          "output_type": "stream",
          "name": "stdout",
          "text": [
            "data =  73.0 ,type = <class 'float'>\n",
            "data =  73 ,type = <class 'str'>\n",
            "data =  True ,type = <class 'bool'>\n"
          ]
        }
      ]
    },
    {
      "cell_type": "markdown",
      "metadata": {
        "id": "BTjZS9m1thuw"
      },
      "source": [
        "## **Berbagai Struktur Data di Python**"
      ]
    },
    {
      "cell_type": "markdown",
      "metadata": {
        "id": "TBsQY66PDWrs"
      },
      "source": [
        "### **List**"
      ]
    },
    {
      "cell_type": "markdown",
      "metadata": {
        "id": "-u6JOj_IDaKk"
      },
      "source": [
        "List adalah jenis kumpulan data terurut (ordered sequence), dan merupakan salah satu variabel yang sering digunakan pada Python. Serupa, namun tak sama dengan array pada bahasa pemrograman lainnya. Bedanya, elemen List pada Python tidak harus memiliki tipe data yang sama. Mendeklarasikan List cukup mudah dengan kurung siku dan elemen yang dipisahkan dengan koma."
      ]
    },
    {
      "cell_type": "markdown",
      "metadata": {
        "id": "9HjWw49REaRC"
      },
      "source": [
        "*Setiap data di dalamnya dapat diakses dengan indeks yang dimulai dari 0.*"
      ]
    },
    {
      "cell_type": "code",
      "metadata": {
        "id": "dP3www4UEiMu",
        "colab": {
          "base_uri": "https://localhost:8080/"
        },
        "outputId": "c1d130dd-abfa-4cfb-c5e9-104e9c051000"
      },
      "source": [
        "a = [1, 2.2, 'python']\n",
        "a"
      ],
      "execution_count": null,
      "outputs": [
        {
          "output_type": "execute_result",
          "data": {
            "text/plain": [
              "[1, 2.2, 'python']"
            ]
          },
          "metadata": {},
          "execution_count": 19
        }
      ]
    },
    {
      "cell_type": "markdown",
      "metadata": {
        "id": "vhI0ElKOnKxC"
      },
      "source": [
        "Bikin versimu sendiri donk, jangan baca doank! heheheh"
      ]
    },
    {
      "cell_type": "code",
      "metadata": {
        "id": "3jQM3A-vFBHE",
        "colab": {
          "base_uri": "https://localhost:8080/"
        },
        "outputId": "a521ab09-d353-4ec7-daac-7ce58a3af798"
      },
      "source": [
        "a = [7, 2.3, 'never goodbye', 'alarm fire']\n",
        "a"
      ],
      "execution_count": null,
      "outputs": [
        {
          "output_type": "execute_result",
          "data": {
            "text/plain": [
              "[7, 2.3, 'never goodbye', 'alarm fire']"
            ]
          },
          "metadata": {},
          "execution_count": 11
        }
      ]
    },
    {
      "cell_type": "markdown",
      "metadata": {
        "id": "xB5by4KJEm-3"
      },
      "source": [
        "Python mengenal slicing operator [ ] yang dapat melakukan ekstraksi sebuah item atau beberapa item yang berada dalam range tertentu pada tipe data urutan (sequences), misalnya list, string dan tuple. Beberapa tipe urutan juga mendukung \"extended slicing\" dengan parameter ketiga berupa \"step\"."
      ]
    },
    {
      "cell_type": "markdown",
      "metadata": {
        "id": "yQr2VKIHEp91"
      },
      "source": [
        "* x[0] artinya mengambil elemen paling awal, dengan  index 0 dari List x.\n",
        "\n",
        "* x[5] artinya mengambil elemen dengan index 5 dari List x.\n",
        "\n",
        "* x[-1] artinya mengambil elemen dengan index paling belakang ke-1 dari List x.\n",
        "\n",
        "* x[3:5] artinya membuat list dari anggota elemen List x dengan index 3 hingga sebelum index 5 (tidak termasuk elemen dengan index 5, dalam hal ini hanya index 3-4).\n",
        "\n",
        "* x[:5] artinya membuat list dari anggota elemen List x paling awal hingga sebelum index 5 (tidak termasuk elemen dengan index 5, dalam hal ini hanya index 0-4).\n",
        "\n",
        "* x[-3:] artinya membuat list dari anggota elemen List x mulai index ke-3 dari belakang hingga paling belakang.\n",
        "\n",
        "* x[1:7:2] artinya membuat list dari anggota elemen List x dengan index 1 hingga sebelum index 7, dengan \"step\" 2 (dalam hal ini hanya index 1, 3, 5)."
      ]
    },
    {
      "cell_type": "code",
      "metadata": {
        "id": "VUCcs22SE9YD",
        "colab": {
          "base_uri": "https://localhost:8080/"
        },
        "outputId": "cfde72c6-e314-4980-b9d6-186efc711f91"
      },
      "source": [
        "x = [5,10,15,20,25,30,35,40]\n",
        "print(x[5])\n",
        "print(x[-1])\n",
        "print(x[3:5])\n",
        "print(x[:5])\n",
        "print(x[-3:])\n",
        "print(x[1:7:2])"
      ],
      "execution_count": null,
      "outputs": [
        {
          "output_type": "stream",
          "name": "stdout",
          "text": [
            "30\n",
            "40\n",
            "[20, 25]\n",
            "[5, 10, 15, 20, 25]\n",
            "[30, 35, 40]\n",
            "[10, 20, 30]\n"
          ]
        }
      ]
    },
    {
      "cell_type": "markdown",
      "metadata": {
        "id": "67egXHvonS_-"
      },
      "source": [
        "Cobain ya!"
      ]
    },
    {
      "cell_type": "code",
      "metadata": {
        "id": "novBhwPUFKVp",
        "colab": {
          "base_uri": "https://localhost:8080/"
        },
        "outputId": "7c4eebf0-e729-47bf-e5a3-47b5d6c9ea10"
      },
      "source": [
        "x = [7,5,13,23,12,9]\n",
        "print(x[3])\n",
        "print(x[-5])\n",
        "print(x[3:5])\n",
        "print(x[:4])"
      ],
      "execution_count": null,
      "outputs": [
        {
          "output_type": "stream",
          "name": "stdout",
          "text": [
            "23\n",
            "5\n",
            "[23, 12]\n",
            "[7, 5, 13, 23]\n"
          ]
        }
      ]
    },
    {
      "cell_type": "markdown",
      "metadata": {
        "id": "QdPay12ZE8qW"
      },
      "source": [
        "Elemen pada list dapat diubah atau ditambahkan. Misalnya untuk melakukan perubahan kemudian penambahan:"
      ]
    },
    {
      "cell_type": "code",
      "metadata": {
        "id": "DQO34qKLFSVm",
        "colab": {
          "base_uri": "https://localhost:8080/",
          "height": 34
        },
        "outputId": "087b6086-3c26-4e85-a36d-c45b47892c9e"
      },
      "source": [
        "#Mengganti elemen\n",
        "x = [1,2,3]\n",
        "x[2]=4\n",
        "print (x)"
      ],
      "execution_count": null,
      "outputs": [
        {
          "output_type": "stream",
          "text": [
            "[1, 2, 4]\n"
          ],
          "name": "stdout"
        }
      ]
    },
    {
      "cell_type": "code",
      "metadata": {
        "id": "aB6N_xlXFY5-",
        "colab": {
          "base_uri": "https://localhost:8080/",
          "height": 34
        },
        "outputId": "f4a680e9-7de8-4e0c-8500-2519e3f8772b"
      },
      "source": [
        "#Menambah elemen\n",
        "x = [1,2,3]\n",
        "x[2]=4\n",
        "x.append(5) #append artinya menambah\n",
        "print(x)"
      ],
      "execution_count": null,
      "outputs": [
        {
          "output_type": "stream",
          "text": [
            "[1, 2, 4, 5]\n"
          ],
          "name": "stdout"
        }
      ]
    },
    {
      "cell_type": "markdown",
      "metadata": {
        "id": "1FwZzKnb9M-K"
      },
      "source": [
        "Saatnya kamu mencoba!\n",
        "\n",
        "\n",
        "\n",
        "\n"
      ]
    },
    {
      "cell_type": "code",
      "metadata": {
        "id": "v_cJVZhOFqQP",
        "colab": {
          "base_uri": "https://localhost:8080/"
        },
        "outputId": "88d445ee-166d-4cc8-8864-699011ca6363"
      },
      "source": [
        "#Mengganti elemen\n",
        "x = [5,7,9,12,13,23]\n",
        "x[2]=10\n",
        "print (x)\n"
      ],
      "execution_count": null,
      "outputs": [
        {
          "output_type": "stream",
          "name": "stdout",
          "text": [
            "[5, 7, 10, 12, 13, 23]\n"
          ]
        }
      ]
    },
    {
      "cell_type": "code",
      "source": [
        "#Menambah elemen\n",
        "x = [5,7,9,12,13,23]\n",
        "x[2]=10\n",
        "x.append(9) #append artinya menambah\n",
        "print(x)"
      ],
      "metadata": {
        "colab": {
          "base_uri": "https://localhost:8080/"
        },
        "id": "U7IhYZ_bnE4u",
        "outputId": "4cd43b23-ec7c-4f82-c7c7-43dd20256ea4"
      },
      "execution_count": null,
      "outputs": [
        {
          "output_type": "stream",
          "name": "stdout",
          "text": [
            "[5, 7, 10, 12, 13, 23, 9]\n"
          ]
        }
      ]
    },
    {
      "cell_type": "markdown",
      "metadata": {
        "id": "Qrrd8dGqFRgS"
      },
      "source": [
        "Untuk menghapus item pada list, gunakan fungsi del. *Ingat bahwa Indeks Python dimulai dari 0*:"
      ]
    },
    {
      "cell_type": "code",
      "metadata": {
        "id": "BNn8vPf0FkUH",
        "colab": {
          "base_uri": "https://localhost:8080/",
          "height": 34
        },
        "outputId": "6bf56aaf-7aa3-4f39-c821-debfdde5ff94"
      },
      "source": [
        "binatang = ['kucing', 'rusa', 'badak', 'gajah']\n",
        "del binatang[2]\n",
        "print(binatang)"
      ],
      "execution_count": null,
      "outputs": [
        {
          "output_type": "stream",
          "text": [
            "['kucing', 'rusa', 'gajah']\n"
          ],
          "name": "stdout"
        }
      ]
    },
    {
      "cell_type": "markdown",
      "metadata": {
        "id": "V9ZGWkmDnivN"
      },
      "source": [
        "Do it by yourself"
      ]
    },
    {
      "cell_type": "code",
      "metadata": {
        "id": "BWMmSjyzFtrX",
        "colab": {
          "base_uri": "https://localhost:8080/"
        },
        "outputId": "d659a2c3-5baf-47d7-e867-4157d6251ca1"
      },
      "source": [
        "nama = ['nana', 'nono', 'injun', 'chan', 'jie']\n",
        "del nama[4]\n",
        "print(nama)"
      ],
      "execution_count": null,
      "outputs": [
        {
          "output_type": "stream",
          "name": "stdout",
          "text": [
            "['nana', 'nono', 'injun', 'chan']\n"
          ]
        }
      ]
    },
    {
      "cell_type": "markdown",
      "metadata": {
        "id": "-kbc__RHFyaP"
      },
      "source": [
        "Coba tambahkan kembali:"
      ]
    },
    {
      "cell_type": "code",
      "metadata": {
        "id": "KFtb4NhTFw7D",
        "colab": {
          "base_uri": "https://localhost:8080/",
          "height": 34
        },
        "outputId": "703ba762-7c7a-4758-faf0-ba229b54cfb6"
      },
      "source": [
        "del binatang [2]\n",
        "print(binatang)"
      ],
      "execution_count": null,
      "outputs": [
        {
          "output_type": "stream",
          "text": [
            "['kucing', 'rusa']\n"
          ],
          "name": "stdout"
        }
      ]
    },
    {
      "cell_type": "markdown",
      "metadata": {
        "id": "lCCqLRGAnnZM"
      },
      "source": [
        "Cobain yaa!"
      ]
    },
    {
      "cell_type": "code",
      "metadata": {
        "id": "5mlv09vRGJWX",
        "colab": {
          "base_uri": "https://localhost:8080/"
        },
        "outputId": "043b0822-c6c1-4f04-dbed-8e43bdb795ad"
      },
      "source": [
        "del nama[2]\n",
        "print(nama)"
      ],
      "execution_count": null,
      "outputs": [
        {
          "output_type": "stream",
          "name": "stdout",
          "text": [
            "['nana', 'nono', 'chan']\n"
          ]
        }
      ]
    },
    {
      "cell_type": "markdown",
      "metadata": {
        "id": "C9NM4R56F9_e"
      },
      "source": [
        "Slicing pada String"
      ]
    },
    {
      "cell_type": "markdown",
      "metadata": {
        "id": "dPZO0puQGAbG"
      },
      "source": [
        "Karena string mirip dengan list, maka slicing operator [ ]  juga dapat digunakan pada string untuk mengambil isinya atau bahkan substring. Sebuah string utuh bersifat mutable (bisa diubah), namun elemennya bersifat immutable (tidak bisa diubah)."
      ]
    },
    {
      "cell_type": "code",
      "metadata": {
        "id": "DyvdYPs0GGU8",
        "colab": {
          "base_uri": "https://localhost:8080/",
          "height": 68
        },
        "outputId": "3ab4fa81-9750-494e-9ef0-5c99635a921e"
      },
      "source": [
        "s = \"Assalamualaikum Dunia!\"\n",
        "print(s[4]) \t\t#ambil karakter kelima dari string s\n",
        "print(s[6:11]) \t\t#ambil karakter ketujuh hingga sebelas dari string s\n",
        "s = \"Halo Dunia!\"\t#ubah isi string s menjadi \"Halo Dunia!\", seharusnya berhasil karena mutable\n",
        "print (s)"
      ],
      "execution_count": null,
      "outputs": [
        {
          "output_type": "stream",
          "text": [
            "l\n",
            "muala\n",
            "Halo Dunia!\n"
          ],
          "name": "stdout"
        }
      ]
    },
    {
      "cell_type": "code",
      "metadata": {
        "id": "1kjxRvOxGlDc",
        "colab": {
          "base_uri": "https://localhost:8080/",
          "height": 164
        },
        "outputId": "878b2bfd-7af5-4574-8f1b-ee0ae8daba16"
      },
      "source": [
        "s[5]=\"d\"        #ubah karakter keenam dari string s menjadi \"d\", seharusnya gagal karena immutable"
      ],
      "execution_count": null,
      "outputs": [
        {
          "output_type": "error",
          "ename": "TypeError",
          "evalue": "ignored",
          "traceback": [
            "\u001b[0;31m---------------------------------------------------------------------------\u001b[0m",
            "\u001b[0;31mTypeError\u001b[0m                                 Traceback (most recent call last)",
            "\u001b[0;32m<ipython-input-32-bf85af8166af>\u001b[0m in \u001b[0;36m<module>\u001b[0;34m()\u001b[0m\n\u001b[0;32m----> 1\u001b[0;31m \u001b[0ms\u001b[0m\u001b[0;34m[\u001b[0m\u001b[0;36m5\u001b[0m\u001b[0;34m]\u001b[0m\u001b[0;34m=\u001b[0m\u001b[0;34m\"d\"\u001b[0m        \u001b[0;31m#ubah karakter keenam dari string s menjadi \"d\", seharusnya gagal karena immutable\u001b[0m\u001b[0;34m\u001b[0m\u001b[0;34m\u001b[0m\u001b[0m\n\u001b[0m",
            "\u001b[0;31mTypeError\u001b[0m: 'str' object does not support item assignment"
          ]
        }
      ]
    },
    {
      "cell_type": "markdown",
      "metadata": {
        "id": "qtxJS1UUn4Bx"
      },
      "source": [
        "Cobain yaa!\n",
        "\n",
        "\n",
        "\n"
      ]
    },
    {
      "cell_type": "code",
      "metadata": {
        "id": "NsEGK9mYGMdI",
        "colab": {
          "base_uri": "https://localhost:8080/"
        },
        "outputId": "18b69b1f-dd0d-4cf0-c7b1-f535e140e7ea"
      },
      "source": [
        "a = \"puzzle piece\"\n",
        "print(a[3]) \t\t#ambil karakter keempat dari string a\n",
        "print(a[7:12]) \t\t#ambil karakter kedelapan hingga dua belas dari string a\n",
        "a = \"we young\"\t#ubah isi string a menjadi \"Halo Dunia!\", seharusnya berhasil karena mutable\n",
        "print (a)"
      ],
      "execution_count": null,
      "outputs": [
        {
          "output_type": "stream",
          "name": "stdout",
          "text": [
            "z\n",
            "piece\n",
            "we young\n"
          ]
        }
      ]
    },
    {
      "cell_type": "code",
      "source": [
        "a[7]=\"b\"        #ubah karakter keenam dari string a menjadi \"b\", seharusnya gagal karena immutable"
      ],
      "metadata": {
        "colab": {
          "base_uri": "https://localhost:8080/",
          "height": 165
        },
        "id": "ywhHqKianU2R",
        "outputId": "7fb06e13-b8f7-4f2e-dca4-aeae6ed88aef"
      },
      "execution_count": null,
      "outputs": [
        {
          "output_type": "error",
          "ename": "TypeError",
          "evalue": "ignored",
          "traceback": [
            "\u001b[0;31m---------------------------------------------------------------------------\u001b[0m",
            "\u001b[0;31mTypeError\u001b[0m                                 Traceback (most recent call last)",
            "\u001b[0;32m<ipython-input-18-6622193959d0>\u001b[0m in \u001b[0;36m<module>\u001b[0;34m()\u001b[0m\n\u001b[0;32m----> 1\u001b[0;31m \u001b[0ma\u001b[0m\u001b[0;34m[\u001b[0m\u001b[0;36m7\u001b[0m\u001b[0;34m]\u001b[0m\u001b[0;34m=\u001b[0m\u001b[0;34m\"b\"\u001b[0m        \u001b[0;31m#ubah karakter keenam dari string a menjadi \"b\", seharusnya gagal karena immutable\u001b[0m\u001b[0;34m\u001b[0m\u001b[0;34m\u001b[0m\u001b[0m\n\u001b[0m",
            "\u001b[0;31mTypeError\u001b[0m: 'str' object does not support item assignment"
          ]
        }
      ]
    },
    {
      "cell_type": "markdown",
      "metadata": {
        "id": "yfrh-45tGopf"
      },
      "source": [
        "### **Tuple**"
      ]
    },
    {
      "cell_type": "markdown",
      "metadata": {
        "id": "q5-ebJrYGsDd"
      },
      "source": [
        "Tuple adalah jenis dari list yang tidak dapat diubah elemennya. Umumnya tuple digunakan untuk data yang bersifat sekali tulis, dan dapat dieksekusi lebih cepat. Tuple didefinisikan dengan kurung dan elemen yang dipisahkan dengan koma."
      ]
    },
    {
      "cell_type": "code",
      "metadata": {
        "id": "rIVXM9wAGugD",
        "colab": {
          "base_uri": "https://localhost:8080/"
        },
        "outputId": "32fd78f5-17b2-424d-b89b-b6994a24331a"
      },
      "source": [
        "t = (5,'program', 1+3j)\n",
        "t"
      ],
      "execution_count": null,
      "outputs": [
        {
          "output_type": "execute_result",
          "data": {
            "text/plain": [
              "(5, 'program', (1+3j))"
            ]
          },
          "metadata": {},
          "execution_count": 21
        }
      ]
    },
    {
      "cell_type": "markdown",
      "metadata": {
        "id": "SthCvnFyGwo4"
      },
      "source": [
        "Seperti list, kita dapat melakukan slicing, namun pada tuple kita tidak dapat melakukan perubahan:"
      ]
    },
    {
      "cell_type": "code",
      "metadata": {
        "id": "wdkkWKo8G2TZ",
        "colab": {
          "base_uri": "https://localhost:8080/"
        },
        "outputId": "af599604-40b4-439d-b0f6-86505ca4e2b6"
      },
      "source": [
        "t = (5,'program', 1+3j)\n",
        "print(t[1])\n",
        "print(t[0:3])\n"
      ],
      "execution_count": null,
      "outputs": [
        {
          "output_type": "stream",
          "name": "stdout",
          "text": [
            "program\n",
            "(5, 'program', (1+3j))\n"
          ]
        }
      ]
    },
    {
      "cell_type": "code",
      "metadata": {
        "id": "LQ_PPY-MG_ZA",
        "colab": {
          "base_uri": "https://localhost:8080/",
          "height": 130
        },
        "outputId": "ee365b58-cde7-42b4-aa35-eba57d52ca73"
      },
      "source": [
        "print(t[0]=10) #Kok gagal, kenapa hayoooooo"
      ],
      "execution_count": null,
      "outputs": [
        {
          "output_type": "error",
          "ename": "SyntaxError",
          "evalue": "ignored",
          "traceback": [
            "\u001b[0;36m  File \u001b[0;32m\"<ipython-input-35-8ad875f67ba4>\"\u001b[0;36m, line \u001b[0;32m1\u001b[0m\n\u001b[0;31m    print(t[0]=10) #Kok gagal, kenapa hayoooooo\u001b[0m\n\u001b[0m         ^\u001b[0m\n\u001b[0;31mSyntaxError\u001b[0m\u001b[0;31m:\u001b[0m keyword can't be an expression\n"
          ]
        }
      ]
    },
    {
      "cell_type": "code",
      "metadata": {
        "id": "nRPuYpMaHFXH",
        "colab": {
          "base_uri": "https://localhost:8080/",
          "height": 51
        },
        "outputId": "b645263a-d2f2-42f0-8901-83877637d05c"
      },
      "source": [
        "a = (5, 6, 7,'aku')#bikin sendiri donk, kreatif dikit napa\n",
        "print (a)\n",
        "print(a[1])\n",
        "del[]"
      ],
      "execution_count": null,
      "outputs": [
        {
          "output_type": "stream",
          "text": [
            "(5, 6, 7, 'aku')\n",
            "6\n"
          ],
          "name": "stdout"
        }
      ]
    },
    {
      "cell_type": "code",
      "source": [
        "x = ('HYBE','PD','BM',7,5,7)\n",
        "print (x)\n",
        "print(x[0])\n",
        "del[]"
      ],
      "metadata": {
        "colab": {
          "base_uri": "https://localhost:8080/"
        },
        "id": "TY-S-zHmp0Yt",
        "outputId": "74cf720c-9e48-437b-b898-126835fe74b6"
      },
      "execution_count": null,
      "outputs": [
        {
          "output_type": "stream",
          "name": "stdout",
          "text": [
            "('HYBE', 'PD', 'BM', 7, 5, 7)\n",
            "HYBE\n"
          ]
        }
      ]
    },
    {
      "cell_type": "markdown",
      "metadata": {
        "id": "Ufp-xMDRHWor"
      },
      "source": [
        "### **Set**"
      ]
    },
    {
      "cell_type": "markdown",
      "metadata": {
        "id": "0K6YzzmLHZN1"
      },
      "source": [
        "Set adalah kumpulan item bersifat unik dan tanpa urutan (unordered collection). Didefinisikan dengan kurawal dan elemennya dipisahkan dengan koma. Pada Set kita dapat melakukan union dan intersection, sekaligus otomatis melakukan penghapusan data duplikat."
      ]
    },
    {
      "cell_type": "code",
      "metadata": {
        "id": "adRdgxovHbKI",
        "colab": {
          "base_uri": "https://localhost:8080/"
        },
        "outputId": "b9f7d4b2-f824-4baf-94d3-3b5515ddb76a"
      },
      "source": [
        "a = {1,2,2,3,3,3}\n",
        "print(a)"
      ],
      "execution_count": null,
      "outputs": [
        {
          "output_type": "stream",
          "name": "stdout",
          "text": [
            "{1, 2, 3}\n"
          ]
        }
      ]
    },
    {
      "cell_type": "markdown",
      "metadata": {
        "id": "CXmsYZIwHjpl"
      },
      "source": [
        "Karena set bersifat unordered, maka kita tidak bisa mengambil sebagian data / elemen datanya menggunakan proses slicing."
      ]
    },
    {
      "cell_type": "code",
      "metadata": {
        "id": "gonptHs5Hk3C",
        "colab": {
          "base_uri": "https://localhost:8080/",
          "height": 183
        },
        "outputId": "d7c5c262-6709-4dc0-9309-e797315da8b0"
      },
      "source": [
        "a = {1,2,3}\n",
        "print(a[1])"
      ],
      "execution_count": null,
      "outputs": [
        {
          "output_type": "error",
          "ename": "TypeError",
          "evalue": "ignored",
          "traceback": [
            "\u001b[0;31m---------------------------------------------------------------------------\u001b[0m",
            "\u001b[0;31mTypeError\u001b[0m                                 Traceback (most recent call last)",
            "\u001b[0;32m<ipython-input-1-3732f14f209e>\u001b[0m in \u001b[0;36m<module>\u001b[0;34m()\u001b[0m\n\u001b[1;32m      1\u001b[0m \u001b[0ma\u001b[0m \u001b[0;34m=\u001b[0m \u001b[0;34m{\u001b[0m\u001b[0;36m1\u001b[0m\u001b[0;34m,\u001b[0m\u001b[0;36m2\u001b[0m\u001b[0;34m,\u001b[0m\u001b[0;36m3\u001b[0m\u001b[0;34m}\u001b[0m\u001b[0;34m\u001b[0m\u001b[0;34m\u001b[0m\u001b[0m\n\u001b[0;32m----> 2\u001b[0;31m \u001b[0mprint\u001b[0m\u001b[0;34m(\u001b[0m\u001b[0ma\u001b[0m\u001b[0;34m[\u001b[0m\u001b[0;36m1\u001b[0m\u001b[0;34m]\u001b[0m\u001b[0;34m)\u001b[0m\u001b[0;34m\u001b[0m\u001b[0;34m\u001b[0m\u001b[0m\n\u001b[0m",
            "\u001b[0;31mTypeError\u001b[0m: 'set' object does not support indexing"
          ]
        }
      ]
    },
    {
      "cell_type": "markdown",
      "metadata": {
        "id": "1FmHwEmNHpAj"
      },
      "source": [
        "### **Dictionary**"
      ]
    },
    {
      "cell_type": "markdown",
      "metadata": {
        "id": "FgjmIuQ0I90t"
      },
      "source": [
        "Dictionary pada Python adalah kumpulan pasangan kunci-nilai (pair of key-value) yang bersifat tidak berurutan. Dictionary dapat digunakan untuk menyimpan data kecil hingga besar. Untuk mengakses datanya, kita harus mengetahui kuncinya (key). Pada Python, dictionary didefinisikan dengan kurawal dan tambahan definisi berikut:"
      ]
    },
    {
      "cell_type": "markdown",
      "metadata": {
        "id": "HRXgW2D3I_-6"
      },
      "source": [
        "1. Setiap elemen pair key-value dipisahkan dengan koma (,).\n",
        "2. Key dan Value dipisahkan dengan titik dua (:).\n",
        "3. Key dan Value dapat berupa tipe variabel/obyek apapun."
      ]
    },
    {
      "cell_type": "code",
      "metadata": {
        "id": "OPuAC6kKJFAQ",
        "colab": {
          "base_uri": "https://localhost:8080/"
        },
        "outputId": "92efe2e4-f045-4628-a2b8-6547adb4ad17"
      },
      "source": [
        "d = {1:'value','key':2}\n",
        "print(type(d))"
      ],
      "execution_count": null,
      "outputs": [
        {
          "output_type": "stream",
          "name": "stdout",
          "text": [
            "<class 'dict'>\n"
          ]
        }
      ]
    },
    {
      "cell_type": "code",
      "metadata": {
        "id": "fvOfhQMsJHi-",
        "colab": {
          "base_uri": "https://localhost:8080/",
          "height": 68
        },
        "outputId": "9f70ffa7-5493-4d84-ecc2-93ebc8da8186"
      },
      "source": [
        "d = {1:'value','key':2}\n",
        "print(type(d))\n",
        "print(\"d[1] = \", d[1]);\n",
        "print(\"d['key'] = \", d['key']);"
      ],
      "execution_count": null,
      "outputs": [
        {
          "output_type": "stream",
          "text": [
            "<class 'dict'>\n",
            "d[1] =  value\n",
            "d['key'] =  2\n"
          ],
          "name": "stdout"
        }
      ]
    },
    {
      "cell_type": "markdown",
      "metadata": {
        "id": "rmfBt8OxJNGI"
      },
      "source": [
        "Dictionary bukan termasuk dalam implementasi urutan (sequences), sehingga tidak bisa dipanggil dengan urutan indeks. Misalnya dalam contoh berikut dicoba dengan indeks 2, tetapi menghasilkan error (KeyError) karena tidak ada kunci (key) 2:"
      ]
    },
    {
      "cell_type": "code",
      "metadata": {
        "id": "6fDwroEqJOK_",
        "colab": {
          "base_uri": "https://localhost:8080/",
          "height": 68
        },
        "outputId": "e7f8aee1-3620-494a-d8d2-16367aff9471"
      },
      "source": [
        "d = {1:'value','key':2}\n",
        "print(type(d))\n",
        "print(\"d[1] = \", d[1]);\n",
        "print(\"d['key'] = \", d['key']);"
      ],
      "execution_count": null,
      "outputs": [
        {
          "output_type": "stream",
          "text": [
            "<class 'dict'>\n",
            "d[1] =  value\n",
            "d['key'] =  2\n"
          ],
          "name": "stdout"
        }
      ]
    },
    {
      "cell_type": "code",
      "metadata": {
        "id": "O5DEeN6PJScD",
        "colab": {
          "base_uri": "https://localhost:8080/",
          "height": 181
        },
        "outputId": "29657bb1-e1ec-4eba-e8a7-c66eccda5a9b"
      },
      "source": [
        "# Nyobain error\n",
        "print(\"d[2] = \", d[2]);"
      ],
      "execution_count": null,
      "outputs": [
        {
          "output_type": "error",
          "ename": "KeyError",
          "evalue": "ignored",
          "traceback": [
            "\u001b[0;31m---------------------------------------------------------------------------\u001b[0m",
            "\u001b[0;31mKeyError\u001b[0m                                  Traceback (most recent call last)",
            "\u001b[0;32m<ipython-input-40-e6e41397ea50>\u001b[0m in \u001b[0;36m<module>\u001b[0;34m()\u001b[0m\n\u001b[1;32m      1\u001b[0m \u001b[0;31m# Nyobain error\u001b[0m\u001b[0;34m\u001b[0m\u001b[0;34m\u001b[0m\u001b[0;34m\u001b[0m\u001b[0m\n\u001b[0;32m----> 2\u001b[0;31m \u001b[0mprint\u001b[0m\u001b[0;34m(\u001b[0m\u001b[0;34m\"d[2] = \"\u001b[0m\u001b[0;34m,\u001b[0m \u001b[0md\u001b[0m\u001b[0;34m[\u001b[0m\u001b[0;36m2\u001b[0m\u001b[0;34m]\u001b[0m\u001b[0;34m)\u001b[0m\u001b[0;34m;\u001b[0m\u001b[0;34m\u001b[0m\u001b[0;34m\u001b[0m\u001b[0m\n\u001b[0m",
            "\u001b[0;31mKeyError\u001b[0m: 2"
          ]
        }
      ]
    },
    {
      "cell_type": "code",
      "metadata": {
        "id": "Kcw4IRnIJbCA",
        "colab": {
          "base_uri": "https://localhost:8080/"
        },
        "outputId": "815361d7-eceb-4331-f3a7-e7dda143ed22"
      },
      "source": [
        "#bikin versimu sendiri yaaa\n",
        "b = {'lys Tear':'magic shop','lys Answer':'love myself'}\n",
        "print(type(b))\n",
        "print(\"b['lys Tear] = \", b['lys Tear']);\n",
        "print(\"b['lys Answer'] = \", b['lys Answer']);"
      ],
      "execution_count": null,
      "outputs": [
        {
          "output_type": "stream",
          "name": "stdout",
          "text": [
            "<class 'dict'>\n",
            "b['lys Tear] =  magic shop\n",
            "b['lys Answer'] =  love myself\n"
          ]
        }
      ]
    },
    {
      "cell_type": "markdown",
      "metadata": {
        "id": "Y_mfIBaOCwFd"
      },
      "source": [
        "### **Konversi Struktur Data**"
      ]
    },
    {
      "cell_type": "markdown",
      "metadata": {
        "id": "PxZ9TS3rC02h"
      },
      "source": [
        "Fungsi untuk mengubah/konversi struktur data:\n",
        "\n",
        "a. list() : untuk mengubah menjadi list\n",
        "\n",
        "b. tuple() : untuk mengubah menjadi tuple\n",
        "\n",
        "c. set() : untuk mengubah menjadi set\n",
        "\n",
        "d. dict() : untuk mengubah menjadi dictonary"
      ]
    },
    {
      "cell_type": "markdown",
      "metadata": {
        "id": "hp1bG1BQC4zb"
      },
      "source": [
        "Contoh:"
      ]
    },
    {
      "cell_type": "code",
      "metadata": {
        "id": "apEPtnDUtmkH",
        "colab": {
          "base_uri": "https://localhost:8080/",
          "height": 34
        },
        "outputId": "46be9ebe-395b-4e35-a46e-1188684816a2"
      },
      "source": [
        "list1 = [1,2,3,4,5]\n",
        "list2 = [\"satu\",\"dua\",\"tiga\",\"empat\",\"lima\"]\n",
        "print(\"data = \", list1 , \",type =\", type(list1))"
      ],
      "execution_count": null,
      "outputs": [
        {
          "output_type": "stream",
          "text": [
            "data =  [1, 2, 3, 4, 5] ,type = <class 'list'>\n"
          ],
          "name": "stdout"
        }
      ]
    },
    {
      "cell_type": "code",
      "metadata": {
        "id": "9hbpCgC7C9v3",
        "colab": {
          "base_uri": "https://localhost:8080/",
          "height": 68
        },
        "outputId": "7a6f3a10-6743-40f3-ff36-1accd3034ad5"
      },
      "source": [
        "# Mengkonversi struktur data list\n",
        "kon_tuple = tuple(list1)\n",
        "kon_set = set(list1)\n",
        "kon_dict = dict(zip(list2,list1))\n",
        "\n",
        "# Melihat data yang telah dikonversi\n",
        "print(kon_tuple)\n",
        "print(kon_set)\n",
        "print(kon_dict)"
      ],
      "execution_count": null,
      "outputs": [
        {
          "output_type": "stream",
          "text": [
            "(1, 2, 3, 4, 5)\n",
            "{1, 2, 3, 4, 5}\n",
            "{'satu': 1, 'dua': 2, 'tiga': 3, 'empat': 4, 'lima': 5}\n"
          ],
          "name": "stdout"
        }
      ]
    },
    {
      "cell_type": "markdown",
      "metadata": {
        "id": "o5MfcC36Jpxu"
      },
      "source": [
        "Nah sampai sini, coba kamu tulis pemahaman kamu tentang List, Tuple, Set, dan Dictionary, tulis pake bahasa kamu sendiri ya:\n",
        "\n",
        "\n",
        "\n",
        "\n",
        "\n",
        "\n",
        "\n",
        "\n",
        "\n",
        "\n",
        "\n",
        "\n",
        "\n",
        "\n"
      ]
    },
    {
      "cell_type": "markdown",
      "metadata": {
        "id": "3uj7jo-sJ6EF"
      },
      "source": [
        "Data List itu merupakan struktur data terurut yang dapat diedit edit pada indeks dan bisa ditambah atau dihapus pada elemennya, dan didefinisikan dengan tanda kurung siku.\n",
        "\n",
        "Data Tuple itu merupakan struktur data terurut namun tidak dapat diedit edit pada indeks, dan didefinisikan dengan tanda kurung.\n",
        "\n",
        "Data Set itu merupakan struktur data yang tidak dan bisa ditambah atau dihapus elemen elemennya, dan didefinisikan dengan tanda kurung kurawal.\n",
        "\n",
        "Data Dictionary itu merupakan struktur data yang elemennya tersusun dari dua atribut key dan value yang keduanya dipisahkan dengan tanda titik dua. Data ini merupakan data yang tidak terurut dan tidak dapat dipanggil dengan urutan indeks, dan data ini didefinisikan dengan tanda kurung kurawal.\n",
        "\n"
      ]
    },
    {
      "cell_type": "markdown",
      "metadata": {
        "id": "HV9Yr4TgtPc1"
      },
      "source": [
        "## **Operasi Matematika Pada Python**"
      ]
    },
    {
      "cell_type": "markdown",
      "metadata": {
        "id": "6-jI9fcdLTDB"
      },
      "source": [
        "### **Operasi Aritmatika**"
      ]
    },
    {
      "cell_type": "markdown",
      "metadata": {
        "id": "y6ZzwbRHKtOm"
      },
      "source": [
        "Nah untuk ini, sebenernya udah pada bisa lah yaa, ya kayak matlab dan r lah, di piton bisa juga kok dipake buat ngitung-ngitung kayak kalkulator, cuma ya gitu, beda sintaksnya doank"
      ]
    },
    {
      "cell_type": "markdown",
      "metadata": {
        "id": "BI_M7T1gW8Tn"
      },
      "source": [
        "Operator aritmatika adalah operator yang digunakan untuk melakukan perhitungan terhadap data numerik. Berikut merupakan operator aritmatika yang digunakan dalam python :\n",
        "\n",
        "</b> Prioritas operator </b>\n",
        "Setiap operator aritmatika memiliki prioritas yang berbeda. Sebagai contoh :\n",
        "\n",
        "</b> 3+5*7 </b>\n",
        "Seperti yang diketahui, operator perkalian (*) memiliki prioritas yang lebih tinggi dibandingkan dengan operator penjumlahan (+) sehingga operasi dapat dituliskan sebagai berikut (3+(5*7)).\n",
        "\n",
        "Untuk lebih jelasnya, tabel berikut memperlihatkan urutan prioritas dari operator aritmatika :\n",
        "\n",
        "Berikut merupakan mindmap dari operasi aritmatika :\n",
        "\n",
        "Perhatikan contoh dibawah :"
      ]
    },
    {
      "cell_type": "code",
      "metadata": {
        "id": "rsqZC37VXHRx",
        "colab": {
          "base_uri": "https://localhost:8080/",
          "height": 34
        },
        "outputId": "6a1d1b26-501b-4b8e-e190-c08f077f21a0"
      },
      "source": [
        "x = 5 + 2 * 3 / (2 - 3) ** 2\n",
        "print(x)\n",
        "\n"
      ],
      "execution_count": null,
      "outputs": [
        {
          "output_type": "stream",
          "text": [
            "11.0\n"
          ],
          "name": "stdout"
        }
      ]
    },
    {
      "cell_type": "code",
      "metadata": {
        "id": "xGAqnghtXKqx",
        "colab": {
          "base_uri": "https://localhost:8080/",
          "height": 170
        },
        "outputId": "5d97bb39-bd0c-47ca-ee01-6365cf64fcb2"
      },
      "source": [
        "x = 10\n",
        "y = 3\n",
        "\n",
        "print(\"x=\",x)\n",
        "print(\"y=\",y)\n",
        "\n",
        "print(\"x+y=\", (x+y))\n",
        "print(\"x-y=\", (x-y))\n",
        "print(\"x*y=\", (x*y))\n",
        "print(\"x/y=\", (x/y))\n",
        "print(\"x//y=\", (x//y))\n",
        "print(\"x%y=\", (x%y))\n",
        "print(\"x**y=\", (x**y))"
      ],
      "execution_count": null,
      "outputs": [
        {
          "output_type": "stream",
          "text": [
            "x= 10\n",
            "y= 3\n",
            "x+y= 13\n",
            "x-y= 7\n",
            "x*y= 30\n",
            "x/y= 3.3333333333333335\n",
            "x//y= 3\n",
            "x%y= 1\n",
            "x**y= 1000\n"
          ],
          "name": "stdout"
        }
      ]
    },
    {
      "cell_type": "code",
      "metadata": {
        "id": "x0_bSZ9StaOW",
        "colab": {
          "base_uri": "https://localhost:8080/",
          "height": 238
        },
        "outputId": "7678937c-f1c3-492c-ecbf-9eab18dc503d"
      },
      "source": [
        "# TIPE DATA NUMBER\n",
        "import math\n",
        "\n",
        "# fungsi-fungsinya:\n",
        "# fungsi absolut : abs(x)\n",
        "# fungsi ceiling  : ceil(x)\n",
        "# fungsi eksponensial : exp(x)\n",
        "# fungsi logaritma : log(x) dan log10()\n",
        "# fungsi maximal : max()\n",
        "# fungsi minimal : min()\n",
        "# fungsi pangkat : pow(x, y)\n",
        "# fungsi round (pembulatan kebawah jika < 0.5) : round()\n",
        "# fungsi kuadrat : sqrt()\n",
        "# fungsi trigonometri : sin(), cos(), tan(), radians(), dll\n",
        "\n",
        "\n",
        "# konstanta\n",
        "print(\"pi = \", math.pi)\n",
        "print(\"e = \", math.e)\n",
        "\n",
        "# fungsi pangkat\n",
        "print(math.pow(3, 2))\n",
        "\n",
        "# fungsi akar kuadrat\n",
        "print(math.sqrt(9))\n",
        "\n",
        "# fungsi logaritma\n",
        "print(math.log(9))\n",
        "\n",
        "# fungsi trigonometri\n",
        "print(math.sin(math.radians(90)))\n",
        "\n",
        "# fungsi absolut\n",
        "print(abs(-10))\n",
        "print(abs(10))\n",
        "\n",
        "# fungsi ceiling : untuk membulatkan kebawah\n",
        "print(math.ceil(-5.25))\n",
        "print(math.ceil(5.25))\n",
        "print(math.ceil(5.75))\n",
        "\n",
        "# fungsi eksponensial\n",
        "print(math.exp(1))\n",
        "print(math.exp(-1))\n"
      ],
      "execution_count": null,
      "outputs": [
        {
          "output_type": "stream",
          "text": [
            "pi =  3.141592653589793\n",
            "e =  2.718281828459045\n",
            "9.0\n",
            "3.0\n",
            "2.1972245773362196\n",
            "1.0\n",
            "10\n",
            "10\n",
            "-5\n",
            "6\n",
            "6\n",
            "2.718281828459045\n",
            "0.36787944117144233\n"
          ],
          "name": "stdout"
        }
      ]
    },
    {
      "cell_type": "markdown",
      "metadata": {
        "id": "Qc4EhfzLXtRT"
      },
      "source": [
        "Sekarang kita akan belajar bagaimana cara mendefinisikan suatu fungsi di dalam python\n",
        "\n",
        "Tadi kan kamu bisa menggunakan fungsi print dengan menulis **print(var)**, nah sekarang kita mau bikin fungsi kamu sendiri\n",
        "\n",
        "**fungsi_buatan_kamu(variabel_yang_kamu_inginkan)**\n",
        "\n"
      ]
    },
    {
      "cell_type": "markdown",
      "metadata": {
        "id": "Pj-hy5gkYMvy"
      },
      "source": [
        "Menulis fungsi itu mudah, contohnya seperti ini:"
      ]
    },
    {
      "cell_type": "code",
      "metadata": {
        "id": "ndAN0nxisxdr",
        "colab": {
          "base_uri": "https://localhost:8080/",
          "height": 34
        },
        "outputId": "a07c816b-04cd-4541-84a6-55f232781a39"
      },
      "source": [
        "def penjumlahan(x, y): #input\n",
        "  a=x+y                #proses\n",
        "  return a             #output\n",
        "\n",
        "penjumlahan(1, 2)      #menggunakan fungsi"
      ],
      "execution_count": null,
      "outputs": [
        {
          "output_type": "execute_result",
          "data": {
            "text/plain": [
              "3"
            ]
          },
          "metadata": {
            "tags": []
          },
          "execution_count": 49
        }
      ]
    },
    {
      "cell_type": "markdown",
      "metadata": {
        "id": "rF6XWNuZYZLm"
      },
      "source": [
        "penjumlahan yang memungkinkan untuk tiga bilangan"
      ]
    },
    {
      "cell_type": "code",
      "metadata": {
        "id": "7ooAJXPeYcxJ",
        "colab": {
          "base_uri": "https://localhost:8080/",
          "height": 51
        },
        "outputId": "0aae8a7d-f95e-4fdc-f51f-5e552c6f7f73"
      },
      "source": [
        "def penjumlahan(x,y,z=None):\n",
        "    if (z==None):\n",
        "        return x+y\n",
        "    else:\n",
        "        return x+y+z\n",
        "\n",
        "print(penjumlahan(1, 2))\n",
        "print(penjumlahan(1, 2, 3))"
      ],
      "execution_count": null,
      "outputs": [
        {
          "output_type": "stream",
          "text": [
            "3\n",
            "6\n"
          ],
          "name": "stdout"
        }
      ]
    },
    {
      "cell_type": "markdown",
      "metadata": {
        "id": "HkPXRcnvYpc9"
      },
      "source": [
        "menyimpan hasil fungsi dalam variabel"
      ]
    },
    {
      "cell_type": "code",
      "metadata": {
        "id": "-nw5pjTZYycA",
        "colab": {
          "base_uri": "https://localhost:8080/",
          "height": 34
        },
        "outputId": "0b5761b1-54f5-437c-d803-80abb1b2e19d"
      },
      "source": [
        "def penjumlahan(x,y):\n",
        "    return x+y\n",
        "\n",
        "a = penjumlahan\n",
        "a(1,2)"
      ],
      "execution_count": null,
      "outputs": [
        {
          "output_type": "execute_result",
          "data": {
            "text/plain": [
              "3"
            ]
          },
          "metadata": {
            "tags": []
          },
          "execution_count": 51
        }
      ]
    },
    {
      "cell_type": "code",
      "source": [
        "def perkalian(a,b):\n",
        "    return a*b\n",
        "\n",
        "x = perkalian\n",
        "x(3,4)"
      ],
      "metadata": {
        "id": "BfjZOrIygFUE",
        "colab": {
          "base_uri": "https://localhost:8080/"
        },
        "outputId": "61d0f5ba-3765-4a63-970a-4e2d12e50e96"
      },
      "execution_count": null,
      "outputs": [
        {
          "output_type": "execute_result",
          "data": {
            "text/plain": [
              "12"
            ]
          },
          "metadata": {},
          "execution_count": 9
        }
      ]
    }
  ]
}