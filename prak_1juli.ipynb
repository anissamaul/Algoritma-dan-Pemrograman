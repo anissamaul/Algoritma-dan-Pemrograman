{
  "nbformat": 4,
  "nbformat_minor": 0,
  "metadata": {
    "colab": {
      "provenance": []
    },
    "kernelspec": {
      "name": "python3",
      "display_name": "Python 3"
    },
    "language_info": {
      "name": "python"
    }
  },
  "cells": [
    {
      "cell_type": "markdown",
      "source": [
        "##Scope Variable"
      ],
      "metadata": {
        "id": "dVkHg8bd4TQZ"
      }
    },
    {
      "cell_type": "code",
      "source": [
        "#Local\n",
        "\n",
        "namateman = 'Joji'\n",
        "\n",
        "def RubahNamaTeman(namabaru):\n",
        "    namateman = namabaru\n",
        "    print('saya akan merubah nama teman saya menjadi', namateman)\n",
        "\n",
        "namateman = 'Jono'\n",
        "RubahNamaTeman('Aldo')\n",
        "print('nama teman saya menjadi', namateman)"
      ],
      "metadata": {
        "colab": {
          "base_uri": "https://localhost:8080/"
        },
        "id": "HH0Soa-C4aND",
        "outputId": "04225e71-06ca-4151-f560-3f9028e88f1f"
      },
      "execution_count": null,
      "outputs": [
        {
          "output_type": "stream",
          "name": "stdout",
          "text": [
            "saya akan merubah nama teman saya menjadi Aldo\n",
            "nama teman saya menjadi Jono\n"
          ]
        }
      ]
    },
    {
      "cell_type": "code",
      "source": [
        "#gLocal\n",
        "\n",
        "namateman = 'Joji'\n",
        "\n",
        "def RubahNamaTeman(namabaru):\n",
        "    global namateman\n",
        "    namateman = namabaru\n",
        "    print('saya akan merubah nama teman saya menjadi', namateman)\n",
        "\n",
        "RubahNamaTeman('Aldo')\n",
        "print('nama teman saya menjadi', namateman)"
      ],
      "metadata": {
        "colab": {
          "base_uri": "https://localhost:8080/"
        },
        "id": "0ulIwdzj7oSc",
        "outputId": "9aa55cef-7a41-4632-8c2d-5283acb4e59b"
      },
      "execution_count": null,
      "outputs": [
        {
          "output_type": "stream",
          "name": "stdout",
          "text": [
            "saya akan merubah nama teman saya menjadi Aldo\n",
            "nama teman saya menjadi Aldo\n"
          ]
        }
      ]
    },
    {
      "cell_type": "code",
      "source": [
        "#gLocal\n",
        "\n",
        "namateman = 'Joji'\n",
        "hobiteman = 'badminton'\n",
        "\n",
        "def RubahNamaTeman(namabaru):\n",
        "    global namateman\n",
        "    namateman = namabaru\n",
        "    print('saya akan merubah nama teman saya menjadi', namateman)\n",
        "\n",
        "def KegiatanTeman(hobi,nama):\n",
        "    global namateman,hobiteman\n",
        "    namateman = nama\n",
        "    hobiteman = hobi\n",
        "    print('saya ingin mengubah nama teman saya menjadi', namateman)\n",
        "\n",
        "KegiatanTeman('Futsal','Anthony')\n",
        "print('nama teman saya menjadi', namateman, 'hobi bermain', hobiteman)"
      ],
      "metadata": {
        "colab": {
          "base_uri": "https://localhost:8080/"
        },
        "id": "P5UqpY-O8Ck3",
        "outputId": "ce5d6b9e-4a57-4011-fbcb-33293ebe3a74"
      },
      "execution_count": null,
      "outputs": [
        {
          "output_type": "stream",
          "name": "stdout",
          "text": [
            "saya ingin mengubah nama teman saya menjadi Anthony\n",
            "nama teman saya menjadi Joji hobi bermain badminton\n"
          ]
        }
      ]
    },
    {
      "cell_type": "code",
      "source": [
        "namateman"
      ],
      "metadata": {
        "colab": {
          "base_uri": "https://localhost:8080/",
          "height": 35
        },
        "id": "qnyKth88_rfp",
        "outputId": "259df122-ee61-425b-ca5b-3a5744726cb8"
      },
      "execution_count": null,
      "outputs": [
        {
          "output_type": "execute_result",
          "data": {
            "text/plain": [
              "'Joji'"
            ],
            "application/vnd.google.colaboratory.intrinsic+json": {
              "type": "string"
            }
          },
          "metadata": {},
          "execution_count": 3
        }
      ]
    },
    {
      "cell_type": "code",
      "source": [
        "hobiteman"
      ],
      "metadata": {
        "colab": {
          "base_uri": "https://localhost:8080/",
          "height": 35
        },
        "id": "INf7YVnz_woS",
        "outputId": "bab611ec-cad3-4505-ed86-99be14e7a00e"
      },
      "execution_count": null,
      "outputs": [
        {
          "output_type": "execute_result",
          "data": {
            "text/plain": [
              "'badminton'"
            ],
            "application/vnd.google.colaboratory.intrinsic+json": {
              "type": "string"
            }
          },
          "metadata": {},
          "execution_count": 4
        }
      ]
    },
    {
      "cell_type": "code",
      "source": [
        "df=(namateman,hobiteman)"
      ],
      "metadata": {
        "id": "BmXwSkck_y2s"
      },
      "execution_count": null,
      "outputs": []
    }
  ]
}